{
 "cells": [
  {
   "cell_type": "code",
   "execution_count": 1,
   "id": "1c9e8b9d-5df1-451b-84db-f04c362f7967",
   "metadata": {},
   "outputs": [],
   "source": [
    "import pandas as pd\n",
    "import matplotlib.pyplot as plt\n",
    "import seaborn as sns"
   ]
  },
  {
   "cell_type": "code",
   "execution_count": 2,
   "id": "f60a1d4c-15a9-4799-bdff-c835bcc41ab3",
   "metadata": {},
   "outputs": [],
   "source": [
    "\n",
    "trf = pd.read_csv(r'C:\\Users\\asus\\Desktop\\Acad\\courses\\summer analytics iitg\\data\\hackathon\\training_set_features.csv')\n",
    "tef = pd.read_csv(r'C:\\Users\\asus\\Desktop\\Acad\\courses\\summer analytics iitg\\data\\hackathon\\test_set_features.csv')\n",
    "trl = pd.read_csv(r\"C:\\Users\\asus\\Desktop\\Acad\\courses\\summer analytics iitg\\data\\hackathon\\training_set_labels.csv\")\n",
    "submission_format = pd.read_csv(r'C:\\Users\\asus\\Desktop\\Acad\\courses\\summer analytics iitg\\data\\hackathon\\submission_format.csv')\n"
   ]
  },
  {
   "cell_type": "code",
   "execution_count": 3,
   "id": "6e534909-d510-4a32-be9d-36c2dee2642c",
   "metadata": {},
   "outputs": [
    {
     "data": {
      "text/plain": [
       "respondent_id                      0\n",
       "xyz_concern                       92\n",
       "xyz_knowledge                    116\n",
       "behavioral_antiviral_meds         71\n",
       "behavioral_avoidance             208\n",
       "behavioral_face_mask              19\n",
       "behavioral_wash_hands             42\n",
       "behavioral_large_gatherings       87\n",
       "behavioral_outside_home           82\n",
       "behavioral_touch_face            128\n",
       "doctor_recc_xyz                 2160\n",
       "doctor_recc_seasonal            2160\n",
       "chronic_med_condition            971\n",
       "child_under_6_months             820\n",
       "health_worker                    804\n",
       "health_insurance               12274\n",
       "opinion_xyz_vacc_effective       391\n",
       "opinion_xyz_risk                 388\n",
       "opinion_xyz_sick_from_vacc       395\n",
       "opinion_seas_vacc_effective      462\n",
       "opinion_seas_risk                514\n",
       "opinion_seas_sick_from_vacc      537\n",
       "age_group                          0\n",
       "education                       1407\n",
       "race                               0\n",
       "sex                                0\n",
       "income_poverty                  4423\n",
       "marital_status                  1408\n",
       "rent_or_own                     2042\n",
       "employment_status               1463\n",
       "hhs_geo_region                     0\n",
       "census_msa                         0\n",
       "household_adults                 249\n",
       "household_children               249\n",
       "employment_industry            13330\n",
       "employment_occupation          13470\n",
       "dtype: int64"
      ]
     },
     "execution_count": 3,
     "metadata": {},
     "output_type": "execute_result"
    }
   ],
   "source": [
    "trf.isnull().sum()"
   ]
  },
  {
   "cell_type": "code",
   "execution_count": 4,
   "id": "7e22d254-5da9-484d-8739-91bae9abd7bb",
   "metadata": {},
   "outputs": [
    {
     "data": {
      "text/plain": [
       "Index(['respondent_id', 'xyz_concern', 'xyz_knowledge',\n",
       "       'behavioral_antiviral_meds', 'behavioral_avoidance',\n",
       "       'behavioral_face_mask', 'behavioral_wash_hands',\n",
       "       'behavioral_large_gatherings', 'behavioral_outside_home',\n",
       "       'behavioral_touch_face', 'doctor_recc_xyz', 'doctor_recc_seasonal',\n",
       "       'chronic_med_condition', 'child_under_6_months', 'health_worker',\n",
       "       'health_insurance'],\n",
       "      dtype='object')"
      ]
     },
     "execution_count": 4,
     "metadata": {},
     "output_type": "execute_result"
    }
   ],
   "source": [
    "trf.columns[0:16]"
   ]
  },
  {
   "cell_type": "code",
   "execution_count": 5,
   "id": "70c63c2a-82ba-4e15-9fdf-c6d126879fbd",
   "metadata": {},
   "outputs": [
    {
     "data": {
      "text/html": [
       "<div>\n",
       "<style scoped>\n",
       "    .dataframe tbody tr th:only-of-type {\n",
       "        vertical-align: middle;\n",
       "    }\n",
       "\n",
       "    .dataframe tbody tr th {\n",
       "        vertical-align: top;\n",
       "    }\n",
       "\n",
       "    .dataframe thead th {\n",
       "        text-align: right;\n",
       "    }\n",
       "</style>\n",
       "<table border=\"1\" class=\"dataframe\">\n",
       "  <thead>\n",
       "    <tr style=\"text-align: right;\">\n",
       "      <th></th>\n",
       "      <th>respondent_id</th>\n",
       "      <th>xyz_concern</th>\n",
       "      <th>xyz_knowledge</th>\n",
       "      <th>behavioral_antiviral_meds</th>\n",
       "      <th>behavioral_avoidance</th>\n",
       "      <th>behavioral_face_mask</th>\n",
       "      <th>behavioral_wash_hands</th>\n",
       "      <th>behavioral_large_gatherings</th>\n",
       "      <th>behavioral_outside_home</th>\n",
       "      <th>behavioral_touch_face</th>\n",
       "      <th>...</th>\n",
       "      <th>income_poverty</th>\n",
       "      <th>marital_status</th>\n",
       "      <th>rent_or_own</th>\n",
       "      <th>employment_status</th>\n",
       "      <th>hhs_geo_region</th>\n",
       "      <th>census_msa</th>\n",
       "      <th>household_adults</th>\n",
       "      <th>household_children</th>\n",
       "      <th>employment_industry</th>\n",
       "      <th>employment_occupation</th>\n",
       "    </tr>\n",
       "  </thead>\n",
       "  <tbody>\n",
       "    <tr>\n",
       "      <th>24</th>\n",
       "      <td>24</td>\n",
       "      <td>0.0</td>\n",
       "      <td>1.0</td>\n",
       "      <td>0.0</td>\n",
       "      <td>1.0</td>\n",
       "      <td>0.0</td>\n",
       "      <td>1.0</td>\n",
       "      <td>1.0</td>\n",
       "      <td>1.0</td>\n",
       "      <td>1.0</td>\n",
       "      <td>...</td>\n",
       "      <td>NaN</td>\n",
       "      <td>Not Married</td>\n",
       "      <td>Own</td>\n",
       "      <td>Unemployed</td>\n",
       "      <td>oxchjgsf</td>\n",
       "      <td>Non-MSA</td>\n",
       "      <td>2.0</td>\n",
       "      <td>0.0</td>\n",
       "      <td>NaN</td>\n",
       "      <td>NaN</td>\n",
       "    </tr>\n",
       "    <tr>\n",
       "      <th>26</th>\n",
       "      <td>26</td>\n",
       "      <td>3.0</td>\n",
       "      <td>1.0</td>\n",
       "      <td>0.0</td>\n",
       "      <td>0.0</td>\n",
       "      <td>0.0</td>\n",
       "      <td>1.0</td>\n",
       "      <td>0.0</td>\n",
       "      <td>0.0</td>\n",
       "      <td>0.0</td>\n",
       "      <td>...</td>\n",
       "      <td>NaN</td>\n",
       "      <td>Married</td>\n",
       "      <td>NaN</td>\n",
       "      <td>Employed</td>\n",
       "      <td>mlyzmhmf</td>\n",
       "      <td>MSA, Principle City</td>\n",
       "      <td>1.0</td>\n",
       "      <td>2.0</td>\n",
       "      <td>ldnlellj</td>\n",
       "      <td>hfxkjkmi</td>\n",
       "    </tr>\n",
       "    <tr>\n",
       "      <th>31</th>\n",
       "      <td>31</td>\n",
       "      <td>2.0</td>\n",
       "      <td>1.0</td>\n",
       "      <td>0.0</td>\n",
       "      <td>1.0</td>\n",
       "      <td>0.0</td>\n",
       "      <td>1.0</td>\n",
       "      <td>0.0</td>\n",
       "      <td>0.0</td>\n",
       "      <td>1.0</td>\n",
       "      <td>...</td>\n",
       "      <td>NaN</td>\n",
       "      <td>Not Married</td>\n",
       "      <td>Own</td>\n",
       "      <td>Not in Labor Force</td>\n",
       "      <td>mlyzmhmf</td>\n",
       "      <td>MSA, Not Principle  City</td>\n",
       "      <td>3.0</td>\n",
       "      <td>0.0</td>\n",
       "      <td>NaN</td>\n",
       "      <td>NaN</td>\n",
       "    </tr>\n",
       "    <tr>\n",
       "      <th>38</th>\n",
       "      <td>38</td>\n",
       "      <td>1.0</td>\n",
       "      <td>1.0</td>\n",
       "      <td>0.0</td>\n",
       "      <td>1.0</td>\n",
       "      <td>0.0</td>\n",
       "      <td>1.0</td>\n",
       "      <td>0.0</td>\n",
       "      <td>0.0</td>\n",
       "      <td>1.0</td>\n",
       "      <td>...</td>\n",
       "      <td>NaN</td>\n",
       "      <td>Married</td>\n",
       "      <td>Own</td>\n",
       "      <td>Not in Labor Force</td>\n",
       "      <td>bhuqouqj</td>\n",
       "      <td>MSA, Not Principle  City</td>\n",
       "      <td>1.0</td>\n",
       "      <td>0.0</td>\n",
       "      <td>NaN</td>\n",
       "      <td>NaN</td>\n",
       "    </tr>\n",
       "    <tr>\n",
       "      <th>39</th>\n",
       "      <td>39</td>\n",
       "      <td>2.0</td>\n",
       "      <td>1.0</td>\n",
       "      <td>0.0</td>\n",
       "      <td>1.0</td>\n",
       "      <td>0.0</td>\n",
       "      <td>1.0</td>\n",
       "      <td>0.0</td>\n",
       "      <td>0.0</td>\n",
       "      <td>1.0</td>\n",
       "      <td>...</td>\n",
       "      <td>NaN</td>\n",
       "      <td>Not Married</td>\n",
       "      <td>Own</td>\n",
       "      <td>Employed</td>\n",
       "      <td>qufhixun</td>\n",
       "      <td>MSA, Not Principle  City</td>\n",
       "      <td>0.0</td>\n",
       "      <td>0.0</td>\n",
       "      <td>pxcmvdjn</td>\n",
       "      <td>xgwztkwe</td>\n",
       "    </tr>\n",
       "    <tr>\n",
       "      <th>...</th>\n",
       "      <td>...</td>\n",
       "      <td>...</td>\n",
       "      <td>...</td>\n",
       "      <td>...</td>\n",
       "      <td>...</td>\n",
       "      <td>...</td>\n",
       "      <td>...</td>\n",
       "      <td>...</td>\n",
       "      <td>...</td>\n",
       "      <td>...</td>\n",
       "      <td>...</td>\n",
       "      <td>...</td>\n",
       "      <td>...</td>\n",
       "      <td>...</td>\n",
       "      <td>...</td>\n",
       "      <td>...</td>\n",
       "      <td>...</td>\n",
       "      <td>...</td>\n",
       "      <td>...</td>\n",
       "      <td>...</td>\n",
       "      <td>...</td>\n",
       "    </tr>\n",
       "    <tr>\n",
       "      <th>26667</th>\n",
       "      <td>26667</td>\n",
       "      <td>0.0</td>\n",
       "      <td>2.0</td>\n",
       "      <td>0.0</td>\n",
       "      <td>1.0</td>\n",
       "      <td>0.0</td>\n",
       "      <td>0.0</td>\n",
       "      <td>1.0</td>\n",
       "      <td>1.0</td>\n",
       "      <td>1.0</td>\n",
       "      <td>...</td>\n",
       "      <td>NaN</td>\n",
       "      <td>Not Married</td>\n",
       "      <td>Rent</td>\n",
       "      <td>Unemployed</td>\n",
       "      <td>dqpwygqj</td>\n",
       "      <td>MSA, Not Principle  City</td>\n",
       "      <td>3.0</td>\n",
       "      <td>1.0</td>\n",
       "      <td>NaN</td>\n",
       "      <td>NaN</td>\n",
       "    </tr>\n",
       "    <tr>\n",
       "      <th>26672</th>\n",
       "      <td>26672</td>\n",
       "      <td>2.0</td>\n",
       "      <td>1.0</td>\n",
       "      <td>0.0</td>\n",
       "      <td>1.0</td>\n",
       "      <td>0.0</td>\n",
       "      <td>1.0</td>\n",
       "      <td>1.0</td>\n",
       "      <td>1.0</td>\n",
       "      <td>1.0</td>\n",
       "      <td>...</td>\n",
       "      <td>NaN</td>\n",
       "      <td>NaN</td>\n",
       "      <td>NaN</td>\n",
       "      <td>NaN</td>\n",
       "      <td>fpwskwrf</td>\n",
       "      <td>MSA, Principle City</td>\n",
       "      <td>NaN</td>\n",
       "      <td>NaN</td>\n",
       "      <td>NaN</td>\n",
       "      <td>NaN</td>\n",
       "    </tr>\n",
       "    <tr>\n",
       "      <th>26675</th>\n",
       "      <td>26675</td>\n",
       "      <td>2.0</td>\n",
       "      <td>2.0</td>\n",
       "      <td>0.0</td>\n",
       "      <td>1.0</td>\n",
       "      <td>0.0</td>\n",
       "      <td>1.0</td>\n",
       "      <td>0.0</td>\n",
       "      <td>0.0</td>\n",
       "      <td>1.0</td>\n",
       "      <td>...</td>\n",
       "      <td>NaN</td>\n",
       "      <td>NaN</td>\n",
       "      <td>NaN</td>\n",
       "      <td>NaN</td>\n",
       "      <td>kbazzjca</td>\n",
       "      <td>Non-MSA</td>\n",
       "      <td>1.0</td>\n",
       "      <td>1.0</td>\n",
       "      <td>NaN</td>\n",
       "      <td>NaN</td>\n",
       "    </tr>\n",
       "    <tr>\n",
       "      <th>26696</th>\n",
       "      <td>26696</td>\n",
       "      <td>2.0</td>\n",
       "      <td>1.0</td>\n",
       "      <td>0.0</td>\n",
       "      <td>1.0</td>\n",
       "      <td>0.0</td>\n",
       "      <td>1.0</td>\n",
       "      <td>0.0</td>\n",
       "      <td>1.0</td>\n",
       "      <td>1.0</td>\n",
       "      <td>...</td>\n",
       "      <td>NaN</td>\n",
       "      <td>Married</td>\n",
       "      <td>Own</td>\n",
       "      <td>Employed</td>\n",
       "      <td>bhuqouqj</td>\n",
       "      <td>MSA, Principle City</td>\n",
       "      <td>1.0</td>\n",
       "      <td>0.0</td>\n",
       "      <td>saaquncn</td>\n",
       "      <td>mxkfnird</td>\n",
       "    </tr>\n",
       "    <tr>\n",
       "      <th>26704</th>\n",
       "      <td>26704</td>\n",
       "      <td>2.0</td>\n",
       "      <td>2.0</td>\n",
       "      <td>0.0</td>\n",
       "      <td>1.0</td>\n",
       "      <td>1.0</td>\n",
       "      <td>1.0</td>\n",
       "      <td>1.0</td>\n",
       "      <td>0.0</td>\n",
       "      <td>1.0</td>\n",
       "      <td>...</td>\n",
       "      <td>NaN</td>\n",
       "      <td>Not Married</td>\n",
       "      <td>Own</td>\n",
       "      <td>NaN</td>\n",
       "      <td>lzgpxyit</td>\n",
       "      <td>MSA, Not Principle  City</td>\n",
       "      <td>0.0</td>\n",
       "      <td>0.0</td>\n",
       "      <td>NaN</td>\n",
       "      <td>NaN</td>\n",
       "    </tr>\n",
       "  </tbody>\n",
       "</table>\n",
       "<p>4423 rows × 36 columns</p>\n",
       "</div>"
      ],
      "text/plain": [
       "       respondent_id  xyz_concern  xyz_knowledge  behavioral_antiviral_meds  \\\n",
       "24                24          0.0            1.0                        0.0   \n",
       "26                26          3.0            1.0                        0.0   \n",
       "31                31          2.0            1.0                        0.0   \n",
       "38                38          1.0            1.0                        0.0   \n",
       "39                39          2.0            1.0                        0.0   \n",
       "...              ...          ...            ...                        ...   \n",
       "26667          26667          0.0            2.0                        0.0   \n",
       "26672          26672          2.0            1.0                        0.0   \n",
       "26675          26675          2.0            2.0                        0.0   \n",
       "26696          26696          2.0            1.0                        0.0   \n",
       "26704          26704          2.0            2.0                        0.0   \n",
       "\n",
       "       behavioral_avoidance  behavioral_face_mask  behavioral_wash_hands  \\\n",
       "24                      1.0                   0.0                    1.0   \n",
       "26                      0.0                   0.0                    1.0   \n",
       "31                      1.0                   0.0                    1.0   \n",
       "38                      1.0                   0.0                    1.0   \n",
       "39                      1.0                   0.0                    1.0   \n",
       "...                     ...                   ...                    ...   \n",
       "26667                   1.0                   0.0                    0.0   \n",
       "26672                   1.0                   0.0                    1.0   \n",
       "26675                   1.0                   0.0                    1.0   \n",
       "26696                   1.0                   0.0                    1.0   \n",
       "26704                   1.0                   1.0                    1.0   \n",
       "\n",
       "       behavioral_large_gatherings  behavioral_outside_home  \\\n",
       "24                             1.0                      1.0   \n",
       "26                             0.0                      0.0   \n",
       "31                             0.0                      0.0   \n",
       "38                             0.0                      0.0   \n",
       "39                             0.0                      0.0   \n",
       "...                            ...                      ...   \n",
       "26667                          1.0                      1.0   \n",
       "26672                          1.0                      1.0   \n",
       "26675                          0.0                      0.0   \n",
       "26696                          0.0                      1.0   \n",
       "26704                          1.0                      0.0   \n",
       "\n",
       "       behavioral_touch_face  ...  income_poverty  marital_status  \\\n",
       "24                       1.0  ...             NaN     Not Married   \n",
       "26                       0.0  ...             NaN         Married   \n",
       "31                       1.0  ...             NaN     Not Married   \n",
       "38                       1.0  ...             NaN         Married   \n",
       "39                       1.0  ...             NaN     Not Married   \n",
       "...                      ...  ...             ...             ...   \n",
       "26667                    1.0  ...             NaN     Not Married   \n",
       "26672                    1.0  ...             NaN             NaN   \n",
       "26675                    1.0  ...             NaN             NaN   \n",
       "26696                    1.0  ...             NaN         Married   \n",
       "26704                    1.0  ...             NaN     Not Married   \n",
       "\n",
       "       rent_or_own   employment_status  hhs_geo_region  \\\n",
       "24             Own          Unemployed        oxchjgsf   \n",
       "26             NaN            Employed        mlyzmhmf   \n",
       "31             Own  Not in Labor Force        mlyzmhmf   \n",
       "38             Own  Not in Labor Force        bhuqouqj   \n",
       "39             Own            Employed        qufhixun   \n",
       "...            ...                 ...             ...   \n",
       "26667         Rent          Unemployed        dqpwygqj   \n",
       "26672          NaN                 NaN        fpwskwrf   \n",
       "26675          NaN                 NaN        kbazzjca   \n",
       "26696          Own            Employed        bhuqouqj   \n",
       "26704          Own                 NaN        lzgpxyit   \n",
       "\n",
       "                     census_msa  household_adults  household_children  \\\n",
       "24                      Non-MSA               2.0                 0.0   \n",
       "26          MSA, Principle City               1.0                 2.0   \n",
       "31     MSA, Not Principle  City               3.0                 0.0   \n",
       "38     MSA, Not Principle  City               1.0                 0.0   \n",
       "39     MSA, Not Principle  City               0.0                 0.0   \n",
       "...                         ...               ...                 ...   \n",
       "26667  MSA, Not Principle  City               3.0                 1.0   \n",
       "26672       MSA, Principle City               NaN                 NaN   \n",
       "26675                   Non-MSA               1.0                 1.0   \n",
       "26696       MSA, Principle City               1.0                 0.0   \n",
       "26704  MSA, Not Principle  City               0.0                 0.0   \n",
       "\n",
       "       employment_industry  employment_occupation  \n",
       "24                     NaN                    NaN  \n",
       "26                ldnlellj               hfxkjkmi  \n",
       "31                     NaN                    NaN  \n",
       "38                     NaN                    NaN  \n",
       "39                pxcmvdjn               xgwztkwe  \n",
       "...                    ...                    ...  \n",
       "26667                  NaN                    NaN  \n",
       "26672                  NaN                    NaN  \n",
       "26675                  NaN                    NaN  \n",
       "26696             saaquncn               mxkfnird  \n",
       "26704                  NaN                    NaN  \n",
       "\n",
       "[4423 rows x 36 columns]"
      ]
     },
     "execution_count": 5,
     "metadata": {},
     "output_type": "execute_result"
    }
   ],
   "source": [
    "trf[trf.income_poverty.isnull()]"
   ]
  },
  {
   "cell_type": "code",
   "execution_count": 6,
   "id": "eaf370c8-6c45-4a8c-8746-ec9fa5d76c03",
   "metadata": {},
   "outputs": [],
   "source": [
    "def employment(df):\n",
    "    # Create a mask for rows where 'employment_status' is 'Not in Labor Force'\n",
    "    mask = df['employment_status'] == \"Not in Labor Force\"\n",
    "    df.loc[mask, ['employment_industry', 'employment_occupation']] = \"notinlf\"\n",
    "    \n",
    "    mask1 = df['employment_status'].isnull()\n",
    "    df.loc[mask1, ['employment_status', 'employment_industry', 'employment_occupation']] = [\"Unemployed\", \"none\", \"none\"]\n",
    "\n",
    "    mask2 =  df['employment_status'] == \"Unemployed\"\n",
    "    df.loc[mask2, ['employment_industry', 'employment_occupation']] = \"none\"\n",
    "    return df\n",
    "\n",
    "def fill_nulls_with_zero(df):\n",
    "    # Iterate over columns from 1 to 22 (inclusive)\n",
    "    for column in df.columns[0:16]:  # Adjusting for 0-based indexing\n",
    "        df[column].fillna(\"0\", inplace=True)\n",
    "    for column in df.columns[16:22]:  # Adjusting for 0-based indexing\n",
    "        df[column].fillna(\"1\", inplace=True)\n",
    "    return df\n"
   ]
  },
  {
   "cell_type": "code",
   "execution_count": 7,
   "id": "383a1cb2-072b-4714-a6dd-18963b12e631",
   "metadata": {},
   "outputs": [
    {
     "name": "stderr",
     "output_type": "stream",
     "text": [
      "C:\\Users\\asus\\AppData\\Local\\Temp\\ipykernel_14484\\1033792281.py:16: FutureWarning: Setting an item of incompatible dtype is deprecated and will raise in a future error of pandas. Value '0' has dtype incompatible with float64, please explicitly cast to a compatible dtype first.\n",
      "  df[column].fillna(\"0\", inplace=True)\n",
      "C:\\Users\\asus\\AppData\\Local\\Temp\\ipykernel_14484\\1033792281.py:18: FutureWarning: Setting an item of incompatible dtype is deprecated and will raise in a future error of pandas. Value '1' has dtype incompatible with float64, please explicitly cast to a compatible dtype first.\n",
      "  df[column].fillna(\"1\", inplace=True)\n"
     ]
    }
   ],
   "source": [
    "trf = employment(trf)\n",
    "trf = fill_nulls_with_zero(trf)"
   ]
  },
  {
   "cell_type": "code",
   "execution_count": 8,
   "id": "ee3eaca0-2019-4187-82e4-c38e6b7f2ca7",
   "metadata": {},
   "outputs": [],
   "source": [
    "trf[\"education\"].fillna(\"< 12 Years\", inplace=True)\n",
    "trf.drop('rent_or_own', axis=1, inplace=True)"
   ]
  },
  {
   "cell_type": "code",
   "execution_count": 9,
   "id": "3a2b0ce0-2e5b-4d9e-9910-7852d5538560",
   "metadata": {},
   "outputs": [
    {
     "data": {
      "text/html": [
       "<div>\n",
       "<style scoped>\n",
       "    .dataframe tbody tr th:only-of-type {\n",
       "        vertical-align: middle;\n",
       "    }\n",
       "\n",
       "    .dataframe tbody tr th {\n",
       "        vertical-align: top;\n",
       "    }\n",
       "\n",
       "    .dataframe thead th {\n",
       "        text-align: right;\n",
       "    }\n",
       "</style>\n",
       "<table border=\"1\" class=\"dataframe\">\n",
       "  <thead>\n",
       "    <tr style=\"text-align: right;\">\n",
       "      <th></th>\n",
       "      <th>respondent_id</th>\n",
       "      <th>xyz_concern</th>\n",
       "      <th>xyz_knowledge</th>\n",
       "      <th>behavioral_antiviral_meds</th>\n",
       "      <th>behavioral_avoidance</th>\n",
       "      <th>behavioral_face_mask</th>\n",
       "      <th>behavioral_wash_hands</th>\n",
       "      <th>behavioral_large_gatherings</th>\n",
       "      <th>behavioral_outside_home</th>\n",
       "      <th>behavioral_touch_face</th>\n",
       "      <th>...</th>\n",
       "      <th>sex</th>\n",
       "      <th>income_poverty</th>\n",
       "      <th>marital_status</th>\n",
       "      <th>employment_status</th>\n",
       "      <th>hhs_geo_region</th>\n",
       "      <th>census_msa</th>\n",
       "      <th>household_adults</th>\n",
       "      <th>household_children</th>\n",
       "      <th>employment_industry</th>\n",
       "      <th>employment_occupation</th>\n",
       "    </tr>\n",
       "  </thead>\n",
       "  <tbody>\n",
       "    <tr>\n",
       "      <th>0</th>\n",
       "      <td>0</td>\n",
       "      <td>1.0</td>\n",
       "      <td>0.0</td>\n",
       "      <td>0.0</td>\n",
       "      <td>0.0</td>\n",
       "      <td>0.0</td>\n",
       "      <td>0.0</td>\n",
       "      <td>0.0</td>\n",
       "      <td>1.0</td>\n",
       "      <td>1.0</td>\n",
       "      <td>...</td>\n",
       "      <td>Female</td>\n",
       "      <td>Below Poverty</td>\n",
       "      <td>Not Married</td>\n",
       "      <td>Not in Labor Force</td>\n",
       "      <td>oxchjgsf</td>\n",
       "      <td>Non-MSA</td>\n",
       "      <td>0.0</td>\n",
       "      <td>0.0</td>\n",
       "      <td>notinlf</td>\n",
       "      <td>notinlf</td>\n",
       "    </tr>\n",
       "    <tr>\n",
       "      <th>1</th>\n",
       "      <td>1</td>\n",
       "      <td>3.0</td>\n",
       "      <td>2.0</td>\n",
       "      <td>0.0</td>\n",
       "      <td>1.0</td>\n",
       "      <td>0.0</td>\n",
       "      <td>1.0</td>\n",
       "      <td>0.0</td>\n",
       "      <td>1.0</td>\n",
       "      <td>1.0</td>\n",
       "      <td>...</td>\n",
       "      <td>Male</td>\n",
       "      <td>Below Poverty</td>\n",
       "      <td>Not Married</td>\n",
       "      <td>Employed</td>\n",
       "      <td>bhuqouqj</td>\n",
       "      <td>MSA, Not Principle  City</td>\n",
       "      <td>0.0</td>\n",
       "      <td>0.0</td>\n",
       "      <td>pxcmvdjn</td>\n",
       "      <td>xgwztkwe</td>\n",
       "    </tr>\n",
       "    <tr>\n",
       "      <th>2</th>\n",
       "      <td>2</td>\n",
       "      <td>1.0</td>\n",
       "      <td>1.0</td>\n",
       "      <td>0.0</td>\n",
       "      <td>1.0</td>\n",
       "      <td>0.0</td>\n",
       "      <td>0.0</td>\n",
       "      <td>0.0</td>\n",
       "      <td>0.0</td>\n",
       "      <td>0.0</td>\n",
       "      <td>...</td>\n",
       "      <td>Male</td>\n",
       "      <td>&lt;= $75,000, Above Poverty</td>\n",
       "      <td>Not Married</td>\n",
       "      <td>Employed</td>\n",
       "      <td>qufhixun</td>\n",
       "      <td>MSA, Not Principle  City</td>\n",
       "      <td>2.0</td>\n",
       "      <td>0.0</td>\n",
       "      <td>rucpziij</td>\n",
       "      <td>xtkaffoo</td>\n",
       "    </tr>\n",
       "    <tr>\n",
       "      <th>3</th>\n",
       "      <td>3</td>\n",
       "      <td>1.0</td>\n",
       "      <td>1.0</td>\n",
       "      <td>0.0</td>\n",
       "      <td>1.0</td>\n",
       "      <td>0.0</td>\n",
       "      <td>1.0</td>\n",
       "      <td>1.0</td>\n",
       "      <td>0.0</td>\n",
       "      <td>0.0</td>\n",
       "      <td>...</td>\n",
       "      <td>Female</td>\n",
       "      <td>Below Poverty</td>\n",
       "      <td>Not Married</td>\n",
       "      <td>Not in Labor Force</td>\n",
       "      <td>lrircsnp</td>\n",
       "      <td>MSA, Principle City</td>\n",
       "      <td>0.0</td>\n",
       "      <td>0.0</td>\n",
       "      <td>notinlf</td>\n",
       "      <td>notinlf</td>\n",
       "    </tr>\n",
       "    <tr>\n",
       "      <th>4</th>\n",
       "      <td>4</td>\n",
       "      <td>2.0</td>\n",
       "      <td>1.0</td>\n",
       "      <td>0.0</td>\n",
       "      <td>1.0</td>\n",
       "      <td>0.0</td>\n",
       "      <td>1.0</td>\n",
       "      <td>1.0</td>\n",
       "      <td>0.0</td>\n",
       "      <td>1.0</td>\n",
       "      <td>...</td>\n",
       "      <td>Female</td>\n",
       "      <td>&lt;= $75,000, Above Poverty</td>\n",
       "      <td>Married</td>\n",
       "      <td>Employed</td>\n",
       "      <td>qufhixun</td>\n",
       "      <td>MSA, Not Principle  City</td>\n",
       "      <td>1.0</td>\n",
       "      <td>0.0</td>\n",
       "      <td>wxleyezf</td>\n",
       "      <td>emcorrxb</td>\n",
       "    </tr>\n",
       "  </tbody>\n",
       "</table>\n",
       "<p>5 rows × 35 columns</p>\n",
       "</div>"
      ],
      "text/plain": [
       "   respondent_id xyz_concern xyz_knowledge behavioral_antiviral_meds  \\\n",
       "0              0         1.0           0.0                       0.0   \n",
       "1              1         3.0           2.0                       0.0   \n",
       "2              2         1.0           1.0                       0.0   \n",
       "3              3         1.0           1.0                       0.0   \n",
       "4              4         2.0           1.0                       0.0   \n",
       "\n",
       "  behavioral_avoidance behavioral_face_mask behavioral_wash_hands  \\\n",
       "0                  0.0                  0.0                   0.0   \n",
       "1                  1.0                  0.0                   1.0   \n",
       "2                  1.0                  0.0                   0.0   \n",
       "3                  1.0                  0.0                   1.0   \n",
       "4                  1.0                  0.0                   1.0   \n",
       "\n",
       "  behavioral_large_gatherings behavioral_outside_home behavioral_touch_face  \\\n",
       "0                         0.0                     1.0                   1.0   \n",
       "1                         0.0                     1.0                   1.0   \n",
       "2                         0.0                     0.0                   0.0   \n",
       "3                         1.0                     0.0                   0.0   \n",
       "4                         1.0                     0.0                   1.0   \n",
       "\n",
       "   ...     sex             income_poverty marital_status   employment_status  \\\n",
       "0  ...  Female              Below Poverty    Not Married  Not in Labor Force   \n",
       "1  ...    Male              Below Poverty    Not Married            Employed   \n",
       "2  ...    Male  <= $75,000, Above Poverty    Not Married            Employed   \n",
       "3  ...  Female              Below Poverty    Not Married  Not in Labor Force   \n",
       "4  ...  Female  <= $75,000, Above Poverty        Married            Employed   \n",
       "\n",
       "  hhs_geo_region                census_msa household_adults  \\\n",
       "0       oxchjgsf                   Non-MSA              0.0   \n",
       "1       bhuqouqj  MSA, Not Principle  City              0.0   \n",
       "2       qufhixun  MSA, Not Principle  City              2.0   \n",
       "3       lrircsnp       MSA, Principle City              0.0   \n",
       "4       qufhixun  MSA, Not Principle  City              1.0   \n",
       "\n",
       "  household_children employment_industry employment_occupation  \n",
       "0                0.0             notinlf               notinlf  \n",
       "1                0.0            pxcmvdjn              xgwztkwe  \n",
       "2                0.0            rucpziij              xtkaffoo  \n",
       "3                0.0             notinlf               notinlf  \n",
       "4                0.0            wxleyezf              emcorrxb  \n",
       "\n",
       "[5 rows x 35 columns]"
      ]
     },
     "execution_count": 9,
     "metadata": {},
     "output_type": "execute_result"
    }
   ],
   "source": [
    "trf.head()"
   ]
  },
  {
   "cell_type": "code",
   "execution_count": 10,
   "id": "d9595f03-c002-4e2c-b046-c594ff486ae8",
   "metadata": {},
   "outputs": [
    {
     "data": {
      "text/plain": [
       "respondent_id                     0\n",
       "xyz_concern                       0\n",
       "xyz_knowledge                     0\n",
       "behavioral_antiviral_meds         0\n",
       "behavioral_avoidance              0\n",
       "behavioral_face_mask              0\n",
       "behavioral_wash_hands             0\n",
       "behavioral_large_gatherings       0\n",
       "behavioral_outside_home           0\n",
       "behavioral_touch_face             0\n",
       "doctor_recc_xyz                   0\n",
       "doctor_recc_seasonal              0\n",
       "chronic_med_condition             0\n",
       "child_under_6_months              0\n",
       "health_worker                     0\n",
       "health_insurance                  0\n",
       "opinion_xyz_vacc_effective        0\n",
       "opinion_xyz_risk                  0\n",
       "opinion_xyz_sick_from_vacc        0\n",
       "opinion_seas_vacc_effective       0\n",
       "opinion_seas_risk                 0\n",
       "opinion_seas_sick_from_vacc       0\n",
       "age_group                         0\n",
       "education                         0\n",
       "race                              0\n",
       "sex                               0\n",
       "income_poverty                 4423\n",
       "marital_status                 1408\n",
       "employment_status                 0\n",
       "hhs_geo_region                    0\n",
       "census_msa                        0\n",
       "household_adults                249\n",
       "household_children              249\n",
       "employment_industry             183\n",
       "employment_occupation           323\n",
       "dtype: int64"
      ]
     },
     "execution_count": 10,
     "metadata": {},
     "output_type": "execute_result"
    }
   ],
   "source": [
    "trf.isnull().sum()"
   ]
  },
  {
   "cell_type": "code",
   "execution_count": 11,
   "id": "10167a49-37fe-45e9-90da-550d1ce46b49",
   "metadata": {},
   "outputs": [
    {
     "data": {
      "text/plain": [
       "marital_status\n",
       "Married        13555\n",
       "Not Married    11744\n",
       "NaN             1408\n",
       "Name: count, dtype: int64"
      ]
     },
     "execution_count": 11,
     "metadata": {},
     "output_type": "execute_result"
    }
   ],
   "source": [
    "trf.marital_status.value_counts(dropna=False)"
   ]
  },
  {
   "cell_type": "code",
   "execution_count": 11,
   "id": "5bd223ad-285e-42b4-bbde-f925ba6aa032",
   "metadata": {},
   "outputs": [],
   "source": [
    "import numpy as np\n",
    "from sklearn.preprocessing import LabelEncoder\n",
    "from sklearn.impute import SimpleImputer\n",
    "\n",
    "pd.set_option('display.max_columns', None)\n",
    "plt.rcParams[\"figure.figsize\"] = (18, 8);"
   ]
  },
  {
   "cell_type": "code",
   "execution_count": 12,
   "id": "3d95e065-c340-49ae-908a-8f0091af41b1",
   "metadata": {},
   "outputs": [],
   "source": [
    "feature_cols = trf.columns\n",
    "cat_cols = [col for col in feature_cols if trf[col].dtype == 'O']\n",
    "cont_cols = [col for col in feature_cols if col not in cat_cols]"
   ]
  },
  {
   "cell_type": "code",
   "execution_count": 13,
   "id": "a3507aad-f9fc-480b-885b-6308ce197799",
   "metadata": {},
   "outputs": [
    {
     "data": {
      "text/plain": [
       "<Axes: >"
      ]
     },
     "execution_count": 13,
     "metadata": {},
     "output_type": "execute_result"
    },
    {
     "data": {
      "image/png": "[encoded data removed]",
      "text/plain": [
       "<Figure size 1800x800 with 1 Axes>"
      ]
     },
     "metadata": {},
     "output_type": "display_data"
    }
   ],
   "source": [
    "sns.heatmap(trf.isnull(), cmap='Blues', cbar=False, yticklabels=False, xticklabels=trf.columns)"
   ]
  },
  {
   "cell_type": "code",
   "execution_count": 14,
   "id": "6711db29-d04c-4119-ba36-afcfc44f83c1",
   "metadata": {},
   "outputs": [
    {
     "data": {
      "text/plain": [
       "employment_industry\n",
       "notinlf     10231\n",
       "none         2916\n",
       "fcxhlnwr     2468\n",
       "wxleyezf     1804\n",
       "ldnlellj     1231\n",
       "pxcmvdjn     1037\n",
       "atmlpfrs      926\n",
       "arjwrbjb      871\n",
       "xicduogh      851\n",
       "mfikgejo      614\n",
       "vjjrobsf      527\n",
       "rucpziij      523\n",
       "xqicxuve      511\n",
       "saaquncn      338\n",
       "cfqqtusy      325\n",
       "nduyfdeo      286\n",
       "mcubkhph      275\n",
       "wlfvacwt      215\n",
       "dotnnunm      201\n",
       "NaN           183\n",
       "haxffmxo      148\n",
       "msuufmds      124\n",
       "phxvnwax       89\n",
       "qnlwzans       13\n",
       "Name: count, dtype: int64"
      ]
     },
     "execution_count": 14,
     "metadata": {},
     "output_type": "execute_result"
    }
   ],
   "source": [
    "trf.employment_industry.value_counts(dropna=False)"
   ]
  },
  {
   "cell_type": "code",
   "execution_count": 15,
   "id": "195f6913-7c06-4e85-af7e-595de5bd77d6",
   "metadata": {},
   "outputs": [
    {
     "name": "stderr",
     "output_type": "stream",
     "text": [
      "C:\\Users\\asus\\AppData\\Local\\Temp\\ipykernel_14484\\4130627487.py:2: FutureWarning: Setting an item of incompatible dtype is deprecated and will raise in a future error of pandas. Value '0' has dtype incompatible with float64, please explicitly cast to a compatible dtype first.\n",
      "  trf[\"household_adults\"].fillna(\"0\", inplace=True)\n",
      "C:\\Users\\asus\\AppData\\Local\\Temp\\ipykernel_14484\\4130627487.py:3: FutureWarning: Setting an item of incompatible dtype is deprecated and will raise in a future error of pandas. Value '0' has dtype incompatible with float64, please explicitly cast to a compatible dtype first.\n",
      "  trf[\"household_children\"].fillna(\"0\", inplace=True)\n"
     ]
    }
   ],
   "source": [
    "trf[\"income_poverty\"].fillna(\"Unknown\", inplace=True)\n",
    "trf[\"household_adults\"].fillna(\"0\", inplace=True)\n",
    "trf[\"household_children\"].fillna(\"0\", inplace=True)\n",
    "trf[\"employment_industry\"].fillna(\"none\", inplace=True)\n",
    "trf[\"employment_occupation\"].fillna(\"none\", inplace=True)"
   ]
  },
  {
   "cell_type": "code",
   "execution_count": 16,
   "id": "609a7a0f-2709-4afa-afdb-6e66558feddb",
   "metadata": {},
   "outputs": [
    {
     "data": {
      "text/plain": [
       "respondent_id                     0\n",
       "xyz_concern                       0\n",
       "xyz_knowledge                     0\n",
       "behavioral_antiviral_meds         0\n",
       "behavioral_avoidance              0\n",
       "behavioral_face_mask              0\n",
       "behavioral_wash_hands             0\n",
       "behavioral_large_gatherings       0\n",
       "behavioral_outside_home           0\n",
       "behavioral_touch_face             0\n",
       "doctor_recc_xyz                   0\n",
       "doctor_recc_seasonal              0\n",
       "chronic_med_condition             0\n",
       "child_under_6_months              0\n",
       "health_worker                     0\n",
       "health_insurance                  0\n",
       "opinion_xyz_vacc_effective        0\n",
       "opinion_xyz_risk                  0\n",
       "opinion_xyz_sick_from_vacc        0\n",
       "opinion_seas_vacc_effective       0\n",
       "opinion_seas_risk                 0\n",
       "opinion_seas_sick_from_vacc       0\n",
       "age_group                         0\n",
       "education                         0\n",
       "race                              0\n",
       "sex                               0\n",
       "income_poverty                    0\n",
       "marital_status                 1408\n",
       "employment_status                 0\n",
       "hhs_geo_region                    0\n",
       "census_msa                        0\n",
       "household_adults                  0\n",
       "household_children                0\n",
       "employment_industry               0\n",
       "employment_occupation             0\n",
       "dtype: int64"
      ]
     },
     "execution_count": 16,
     "metadata": {},
     "output_type": "execute_result"
    }
   ],
   "source": [
    "trf.isnull().sum()"
   ]
  },
  {
   "cell_type": "code",
   "execution_count": 17,
   "id": "0771aa6b-0bc1-4f06-bdaf-ec52c46b8994",
   "metadata": {},
   "outputs": [],
   "source": [
    "trf[\"marital_status\"].fillna(\"Unknown\", inplace=True)"
   ]
  },
  {
   "cell_type": "code",
   "execution_count": 18,
   "id": "2115b180-7d01-4b0a-946c-1b9ef892b49a",
   "metadata": {},
   "outputs": [
    {
     "data": {
      "text/plain": [
       "respondent_id                   int64\n",
       "xyz_concern                    object\n",
       "xyz_knowledge                  object\n",
       "behavioral_antiviral_meds      object\n",
       "behavioral_avoidance           object\n",
       "behavioral_face_mask           object\n",
       "behavioral_wash_hands          object\n",
       "behavioral_large_gatherings    object\n",
       "behavioral_outside_home        object\n",
       "behavioral_touch_face          object\n",
       "doctor_recc_xyz                object\n",
       "doctor_recc_seasonal           object\n",
       "chronic_med_condition          object\n",
       "child_under_6_months           object\n",
       "health_worker                  object\n",
       "health_insurance               object\n",
       "opinion_xyz_vacc_effective     object\n",
       "opinion_xyz_risk               object\n",
       "opinion_xyz_sick_from_vacc     object\n",
       "opinion_seas_vacc_effective    object\n",
       "opinion_seas_risk              object\n",
       "opinion_seas_sick_from_vacc    object\n",
       "age_group                      object\n",
       "education                      object\n",
       "race                           object\n",
       "sex                            object\n",
       "income_poverty                 object\n",
       "marital_status                 object\n",
       "employment_status              object\n",
       "hhs_geo_region                 object\n",
       "census_msa                     object\n",
       "household_adults               object\n",
       "household_children             object\n",
       "employment_industry            object\n",
       "employment_occupation          object\n",
       "dtype: object"
      ]
     },
     "execution_count": 18,
     "metadata": {},
     "output_type": "execute_result"
    }
   ],
   "source": [
    "trf.dtypes"
   ]
  },
  {
   "cell_type": "code",
   "execution_count": 19,
   "id": "4be9d5e6-5137-4ac8-a962-6a4cac03a3b6",
   "metadata": {},
   "outputs": [
    {
     "data": {
      "text/plain": [
       "Index(['respondent_id', 'xyz_concern', 'xyz_knowledge',\n",
       "       'behavioral_antiviral_meds', 'behavioral_avoidance',\n",
       "       'behavioral_face_mask', 'behavioral_wash_hands',\n",
       "       'behavioral_large_gatherings', 'behavioral_outside_home',\n",
       "       'behavioral_touch_face', 'doctor_recc_xyz', 'doctor_recc_seasonal',\n",
       "       'chronic_med_condition', 'child_under_6_months', 'health_worker',\n",
       "       'health_insurance'],\n",
       "      dtype='object')"
      ]
     },
     "execution_count": 19,
     "metadata": {},
     "output_type": "execute_result"
    }
   ],
   "source": [
    "trf.columns[0:16]"
   ]
  },
  {
   "cell_type": "code",
   "execution_count": 20,
   "id": "50567baa-14da-44ee-972b-69740b1a6484",
   "metadata": {},
   "outputs": [],
   "source": [
    "def column_type(df, st_col, end_col):\n",
    "    for column in df.columns[st_col: end_col]:\n",
    "        df[column] = df[column].astype(int)\n",
    "    return df "
   ]
  },
  {
   "cell_type": "code",
   "execution_count": 21,
   "id": "8c92f468-075b-4f65-970d-42fb1f6b13ef",
   "metadata": {},
   "outputs": [],
   "source": [
    "trf = column_type(trf, 0, 22)"
   ]
  },
  {
   "cell_type": "code",
   "execution_count": 22,
   "id": "5ae4e256-7c09-4141-bff9-baff26ac47d1",
   "metadata": {},
   "outputs": [
    {
     "data": {
      "text/plain": [
       "respondent_id                   int32\n",
       "xyz_concern                     int32\n",
       "xyz_knowledge                   int32\n",
       "behavioral_antiviral_meds       int32\n",
       "behavioral_avoidance            int32\n",
       "behavioral_face_mask            int32\n",
       "behavioral_wash_hands           int32\n",
       "behavioral_large_gatherings     int32\n",
       "behavioral_outside_home         int32\n",
       "behavioral_touch_face           int32\n",
       "doctor_recc_xyz                 int32\n",
       "doctor_recc_seasonal            int32\n",
       "chronic_med_condition           int32\n",
       "child_under_6_months            int32\n",
       "health_worker                   int32\n",
       "health_insurance                int32\n",
       "opinion_xyz_vacc_effective      int32\n",
       "opinion_xyz_risk                int32\n",
       "opinion_xyz_sick_from_vacc      int32\n",
       "opinion_seas_vacc_effective     int32\n",
       "opinion_seas_risk               int32\n",
       "opinion_seas_sick_from_vacc     int32\n",
       "age_group                      object\n",
       "education                      object\n",
       "race                           object\n",
       "sex                            object\n",
       "income_poverty                 object\n",
       "marital_status                 object\n",
       "employment_status              object\n",
       "hhs_geo_region                 object\n",
       "census_msa                     object\n",
       "household_adults               object\n",
       "household_children             object\n",
       "employment_industry            object\n",
       "employment_occupation          object\n",
       "dtype: object"
      ]
     },
     "execution_count": 22,
     "metadata": {},
     "output_type": "execute_result"
    }
   ],
   "source": [
    "trf.dtypes"
   ]
  },
  {
   "cell_type": "code",
   "execution_count": 23,
   "id": "f50f4357-da61-41a6-9d9b-52eff9e6f76b",
   "metadata": {},
   "outputs": [],
   "source": [
    "trf = column_type(trf, 32, 33)"
   ]
  },
  {
   "cell_type": "code",
   "execution_count": 24,
   "id": "7cc296e3-b91f-4e21-8d95-b14b7c30e9b0",
   "metadata": {},
   "outputs": [],
   "source": [
    "def label_encode_columns(df, start_col, end_col):\n",
    "    le = LabelEncoder()\n",
    "    for col in df.columns[start_col:end_col+1]:\n",
    "        if df[col].dtype == 'object':\n",
    "            df[col + '_encoded'] = le.fit_transform(df[col]) + 1  # Add 1 to start from 1\n",
    "    return df"
   ]
  },
  {
   "cell_type": "code",
   "execution_count": 25,
   "id": "65a78e2f-b538-42a1-b273-180e11e5f9b2",
   "metadata": {},
   "outputs": [],
   "source": [
    "trf = label_encode_columns(trf,22,30)"
   ]
  },
  {
   "cell_type": "code",
   "execution_count": 26,
   "id": "0314c5f6-df9e-416c-ac48-8a2ca38e2815",
   "metadata": {},
   "outputs": [
    {
     "data": {
      "text/html": [
       "<div>\n",
       "<style scoped>\n",
       "    .dataframe tbody tr th:only-of-type {\n",
       "        vertical-align: middle;\n",
       "    }\n",
       "\n",
       "    .dataframe tbody tr th {\n",
       "        vertical-align: top;\n",
       "    }\n",
       "\n",
       "    .dataframe thead th {\n",
       "        text-align: right;\n",
       "    }\n",
       "</style>\n",
       "<table border=\"1\" class=\"dataframe\">\n",
       "  <thead>\n",
       "    <tr style=\"text-align: right;\">\n",
       "      <th></th>\n",
       "      <th>respondent_id</th>\n",
       "      <th>xyz_concern</th>\n",
       "      <th>xyz_knowledge</th>\n",
       "      <th>behavioral_antiviral_meds</th>\n",
       "      <th>behavioral_avoidance</th>\n",
       "      <th>behavioral_face_mask</th>\n",
       "      <th>behavioral_wash_hands</th>\n",
       "      <th>behavioral_large_gatherings</th>\n",
       "      <th>behavioral_outside_home</th>\n",
       "      <th>behavioral_touch_face</th>\n",
       "      <th>doctor_recc_xyz</th>\n",
       "      <th>doctor_recc_seasonal</th>\n",
       "      <th>chronic_med_condition</th>\n",
       "      <th>child_under_6_months</th>\n",
       "      <th>health_worker</th>\n",
       "      <th>health_insurance</th>\n",
       "      <th>opinion_xyz_vacc_effective</th>\n",
       "      <th>opinion_xyz_risk</th>\n",
       "      <th>opinion_xyz_sick_from_vacc</th>\n",
       "      <th>opinion_seas_vacc_effective</th>\n",
       "      <th>opinion_seas_risk</th>\n",
       "      <th>opinion_seas_sick_from_vacc</th>\n",
       "      <th>age_group</th>\n",
       "      <th>education</th>\n",
       "      <th>race</th>\n",
       "      <th>sex</th>\n",
       "      <th>income_poverty</th>\n",
       "      <th>marital_status</th>\n",
       "      <th>employment_status</th>\n",
       "      <th>hhs_geo_region</th>\n",
       "      <th>census_msa</th>\n",
       "      <th>household_adults</th>\n",
       "      <th>household_children</th>\n",
       "      <th>employment_industry</th>\n",
       "      <th>employment_occupation</th>\n",
       "      <th>age_group_encoded</th>\n",
       "      <th>education_encoded</th>\n",
       "      <th>race_encoded</th>\n",
       "      <th>sex_encoded</th>\n",
       "      <th>income_poverty_encoded</th>\n",
       "      <th>marital_status_encoded</th>\n",
       "      <th>employment_status_encoded</th>\n",
       "      <th>hhs_geo_region_encoded</th>\n",
       "      <th>census_msa_encoded</th>\n",
       "    </tr>\n",
       "  </thead>\n",
       "  <tbody>\n",
       "    <tr>\n",
       "      <th>0</th>\n",
       "      <td>0</td>\n",
       "      <td>1</td>\n",
       "      <td>0</td>\n",
       "      <td>0</td>\n",
       "      <td>0</td>\n",
       "      <td>0</td>\n",
       "      <td>0</td>\n",
       "      <td>0</td>\n",
       "      <td>1</td>\n",
       "      <td>1</td>\n",
       "      <td>0</td>\n",
       "      <td>0</td>\n",
       "      <td>0</td>\n",
       "      <td>0</td>\n",
       "      <td>0</td>\n",
       "      <td>1</td>\n",
       "      <td>3</td>\n",
       "      <td>1</td>\n",
       "      <td>2</td>\n",
       "      <td>2</td>\n",
       "      <td>1</td>\n",
       "      <td>2</td>\n",
       "      <td>55 - 64 Years</td>\n",
       "      <td>&lt; 12 Years</td>\n",
       "      <td>White</td>\n",
       "      <td>Female</td>\n",
       "      <td>Below Poverty</td>\n",
       "      <td>Not Married</td>\n",
       "      <td>Not in Labor Force</td>\n",
       "      <td>oxchjgsf</td>\n",
       "      <td>Non-MSA</td>\n",
       "      <td>0.0</td>\n",
       "      <td>0</td>\n",
       "      <td>notinlf</td>\n",
       "      <td>notinlf</td>\n",
       "      <td>4</td>\n",
       "      <td>2</td>\n",
       "      <td>4</td>\n",
       "      <td>1</td>\n",
       "      <td>3</td>\n",
       "      <td>2</td>\n",
       "      <td>2</td>\n",
       "      <td>9</td>\n",
       "      <td>3</td>\n",
       "    </tr>\n",
       "    <tr>\n",
       "      <th>1</th>\n",
       "      <td>1</td>\n",
       "      <td>3</td>\n",
       "      <td>2</td>\n",
       "      <td>0</td>\n",
       "      <td>1</td>\n",
       "      <td>0</td>\n",
       "      <td>1</td>\n",
       "      <td>0</td>\n",
       "      <td>1</td>\n",
       "      <td>1</td>\n",
       "      <td>0</td>\n",
       "      <td>0</td>\n",
       "      <td>0</td>\n",
       "      <td>0</td>\n",
       "      <td>0</td>\n",
       "      <td>1</td>\n",
       "      <td>5</td>\n",
       "      <td>4</td>\n",
       "      <td>4</td>\n",
       "      <td>4</td>\n",
       "      <td>2</td>\n",
       "      <td>4</td>\n",
       "      <td>35 - 44 Years</td>\n",
       "      <td>12 Years</td>\n",
       "      <td>White</td>\n",
       "      <td>Male</td>\n",
       "      <td>Below Poverty</td>\n",
       "      <td>Not Married</td>\n",
       "      <td>Employed</td>\n",
       "      <td>bhuqouqj</td>\n",
       "      <td>MSA, Not Principle  City</td>\n",
       "      <td>0.0</td>\n",
       "      <td>0</td>\n",
       "      <td>pxcmvdjn</td>\n",
       "      <td>xgwztkwe</td>\n",
       "      <td>2</td>\n",
       "      <td>1</td>\n",
       "      <td>4</td>\n",
       "      <td>2</td>\n",
       "      <td>3</td>\n",
       "      <td>2</td>\n",
       "      <td>1</td>\n",
       "      <td>2</td>\n",
       "      <td>1</td>\n",
       "    </tr>\n",
       "    <tr>\n",
       "      <th>2</th>\n",
       "      <td>2</td>\n",
       "      <td>1</td>\n",
       "      <td>1</td>\n",
       "      <td>0</td>\n",
       "      <td>1</td>\n",
       "      <td>0</td>\n",
       "      <td>0</td>\n",
       "      <td>0</td>\n",
       "      <td>0</td>\n",
       "      <td>0</td>\n",
       "      <td>0</td>\n",
       "      <td>0</td>\n",
       "      <td>1</td>\n",
       "      <td>0</td>\n",
       "      <td>0</td>\n",
       "      <td>0</td>\n",
       "      <td>3</td>\n",
       "      <td>1</td>\n",
       "      <td>1</td>\n",
       "      <td>4</td>\n",
       "      <td>1</td>\n",
       "      <td>2</td>\n",
       "      <td>18 - 34 Years</td>\n",
       "      <td>College Graduate</td>\n",
       "      <td>White</td>\n",
       "      <td>Male</td>\n",
       "      <td>&lt;= $75,000, Above Poverty</td>\n",
       "      <td>Not Married</td>\n",
       "      <td>Employed</td>\n",
       "      <td>qufhixun</td>\n",
       "      <td>MSA, Not Principle  City</td>\n",
       "      <td>2.0</td>\n",
       "      <td>0</td>\n",
       "      <td>rucpziij</td>\n",
       "      <td>xtkaffoo</td>\n",
       "      <td>1</td>\n",
       "      <td>3</td>\n",
       "      <td>4</td>\n",
       "      <td>2</td>\n",
       "      <td>1</td>\n",
       "      <td>2</td>\n",
       "      <td>1</td>\n",
       "      <td>10</td>\n",
       "      <td>1</td>\n",
       "    </tr>\n",
       "    <tr>\n",
       "      <th>3</th>\n",
       "      <td>3</td>\n",
       "      <td>1</td>\n",
       "      <td>1</td>\n",
       "      <td>0</td>\n",
       "      <td>1</td>\n",
       "      <td>0</td>\n",
       "      <td>1</td>\n",
       "      <td>1</td>\n",
       "      <td>0</td>\n",
       "      <td>0</td>\n",
       "      <td>0</td>\n",
       "      <td>1</td>\n",
       "      <td>1</td>\n",
       "      <td>0</td>\n",
       "      <td>0</td>\n",
       "      <td>0</td>\n",
       "      <td>3</td>\n",
       "      <td>3</td>\n",
       "      <td>5</td>\n",
       "      <td>5</td>\n",
       "      <td>4</td>\n",
       "      <td>1</td>\n",
       "      <td>65+ Years</td>\n",
       "      <td>12 Years</td>\n",
       "      <td>White</td>\n",
       "      <td>Female</td>\n",
       "      <td>Below Poverty</td>\n",
       "      <td>Not Married</td>\n",
       "      <td>Not in Labor Force</td>\n",
       "      <td>lrircsnp</td>\n",
       "      <td>MSA, Principle City</td>\n",
       "      <td>0.0</td>\n",
       "      <td>0</td>\n",
       "      <td>notinlf</td>\n",
       "      <td>notinlf</td>\n",
       "      <td>5</td>\n",
       "      <td>1</td>\n",
       "      <td>4</td>\n",
       "      <td>1</td>\n",
       "      <td>3</td>\n",
       "      <td>2</td>\n",
       "      <td>2</td>\n",
       "      <td>6</td>\n",
       "      <td>2</td>\n",
       "    </tr>\n",
       "    <tr>\n",
       "      <th>4</th>\n",
       "      <td>4</td>\n",
       "      <td>2</td>\n",
       "      <td>1</td>\n",
       "      <td>0</td>\n",
       "      <td>1</td>\n",
       "      <td>0</td>\n",
       "      <td>1</td>\n",
       "      <td>1</td>\n",
       "      <td>0</td>\n",
       "      <td>1</td>\n",
       "      <td>0</td>\n",
       "      <td>0</td>\n",
       "      <td>0</td>\n",
       "      <td>0</td>\n",
       "      <td>0</td>\n",
       "      <td>0</td>\n",
       "      <td>3</td>\n",
       "      <td>3</td>\n",
       "      <td>2</td>\n",
       "      <td>3</td>\n",
       "      <td>1</td>\n",
       "      <td>4</td>\n",
       "      <td>45 - 54 Years</td>\n",
       "      <td>Some College</td>\n",
       "      <td>White</td>\n",
       "      <td>Female</td>\n",
       "      <td>&lt;= $75,000, Above Poverty</td>\n",
       "      <td>Married</td>\n",
       "      <td>Employed</td>\n",
       "      <td>qufhixun</td>\n",
       "      <td>MSA, Not Principle  City</td>\n",
       "      <td>1.0</td>\n",
       "      <td>0</td>\n",
       "      <td>wxleyezf</td>\n",
       "      <td>emcorrxb</td>\n",
       "      <td>3</td>\n",
       "      <td>4</td>\n",
       "      <td>4</td>\n",
       "      <td>1</td>\n",
       "      <td>1</td>\n",
       "      <td>1</td>\n",
       "      <td>1</td>\n",
       "      <td>10</td>\n",
       "      <td>1</td>\n",
       "    </tr>\n",
       "  </tbody>\n",
       "</table>\n",
       "</div>"
      ],
      "text/plain": [
       "   respondent_id  xyz_concern  xyz_knowledge  behavioral_antiviral_meds  \\\n",
       "0              0            1              0                          0   \n",
       "1              1            3              2                          0   \n",
       "2              2            1              1                          0   \n",
       "3              3            1              1                          0   \n",
       "4              4            2              1                          0   \n",
       "\n",
       "   behavioral_avoidance  behavioral_face_mask  behavioral_wash_hands  \\\n",
       "0                     0                     0                      0   \n",
       "1                     1                     0                      1   \n",
       "2                     1                     0                      0   \n",
       "3                     1                     0                      1   \n",
       "4                     1                     0                      1   \n",
       "\n",
       "   behavioral_large_gatherings  behavioral_outside_home  \\\n",
       "0                            0                        1   \n",
       "1                            0                        1   \n",
       "2                            0                        0   \n",
       "3                            1                        0   \n",
       "4                            1                        0   \n",
       "\n",
       "   behavioral_touch_face  doctor_recc_xyz  doctor_recc_seasonal  \\\n",
       "0                      1                0                     0   \n",
       "1                      1                0                     0   \n",
       "2                      0                0                     0   \n",
       "3                      0                0                     1   \n",
       "4                      1                0                     0   \n",
       "\n",
       "   chronic_med_condition  child_under_6_months  health_worker  \\\n",
       "0                      0                     0              0   \n",
       "1                      0                     0              0   \n",
       "2                      1                     0              0   \n",
       "3                      1                     0              0   \n",
       "4                      0                     0              0   \n",
       "\n",
       "   health_insurance  opinion_xyz_vacc_effective  opinion_xyz_risk  \\\n",
       "0                 1                           3                 1   \n",
       "1                 1                           5                 4   \n",
       "2                 0                           3                 1   \n",
       "3                 0                           3                 3   \n",
       "4                 0                           3                 3   \n",
       "\n",
       "   opinion_xyz_sick_from_vacc  opinion_seas_vacc_effective  opinion_seas_risk  \\\n",
       "0                           2                            2                  1   \n",
       "1                           4                            4                  2   \n",
       "2                           1                            4                  1   \n",
       "3                           5                            5                  4   \n",
       "4                           2                            3                  1   \n",
       "\n",
       "   opinion_seas_sick_from_vacc      age_group         education   race  \\\n",
       "0                            2  55 - 64 Years        < 12 Years  White   \n",
       "1                            4  35 - 44 Years          12 Years  White   \n",
       "2                            2  18 - 34 Years  College Graduate  White   \n",
       "3                            1      65+ Years          12 Years  White   \n",
       "4                            4  45 - 54 Years      Some College  White   \n",
       "\n",
       "      sex             income_poverty marital_status   employment_status  \\\n",
       "0  Female              Below Poverty    Not Married  Not in Labor Force   \n",
       "1    Male              Below Poverty    Not Married            Employed   \n",
       "2    Male  <= $75,000, Above Poverty    Not Married            Employed   \n",
       "3  Female              Below Poverty    Not Married  Not in Labor Force   \n",
       "4  Female  <= $75,000, Above Poverty        Married            Employed   \n",
       "\n",
       "  hhs_geo_region                census_msa household_adults  \\\n",
       "0       oxchjgsf                   Non-MSA              0.0   \n",
       "1       bhuqouqj  MSA, Not Principle  City              0.0   \n",
       "2       qufhixun  MSA, Not Principle  City              2.0   \n",
       "3       lrircsnp       MSA, Principle City              0.0   \n",
       "4       qufhixun  MSA, Not Principle  City              1.0   \n",
       "\n",
       "   household_children employment_industry employment_occupation  \\\n",
       "0                   0             notinlf               notinlf   \n",
       "1                   0            pxcmvdjn              xgwztkwe   \n",
       "2                   0            rucpziij              xtkaffoo   \n",
       "3                   0             notinlf               notinlf   \n",
       "4                   0            wxleyezf              emcorrxb   \n",
       "\n",
       "   age_group_encoded  education_encoded  race_encoded  sex_encoded  \\\n",
       "0                  4                  2             4            1   \n",
       "1                  2                  1             4            2   \n",
       "2                  1                  3             4            2   \n",
       "3                  5                  1             4            1   \n",
       "4                  3                  4             4            1   \n",
       "\n",
       "   income_poverty_encoded  marital_status_encoded  employment_status_encoded  \\\n",
       "0                       3                       2                          2   \n",
       "1                       3                       2                          1   \n",
       "2                       1                       2                          1   \n",
       "3                       3                       2                          2   \n",
       "4                       1                       1                          1   \n",
       "\n",
       "   hhs_geo_region_encoded  census_msa_encoded  \n",
       "0                       9                   3  \n",
       "1                       2                   1  \n",
       "2                      10                   1  \n",
       "3                       6                   2  \n",
       "4                      10                   1  "
      ]
     },
     "execution_count": 26,
     "metadata": {},
     "output_type": "execute_result"
    }
   ],
   "source": [
    "trf.head()"
   ]
  },
  {
   "cell_type": "code",
   "execution_count": 27,
   "id": "95564da2-2229-47e1-ba2e-e0695d62229b",
   "metadata": {},
   "outputs": [
    {
     "data": {
      "text/plain": [
       "'census_msa'"
      ]
     },
     "execution_count": 27,
     "metadata": {},
     "output_type": "execute_result"
    }
   ],
   "source": [
    "trf.columns[30]"
   ]
  },
  {
   "cell_type": "code",
   "execution_count": 28,
   "id": "283817a8-3ea8-45c6-8c96-b75ef645d3cc",
   "metadata": {},
   "outputs": [
    {
     "data": {
      "text/plain": [
       "(26707, 46)"
      ]
     },
     "execution_count": 28,
     "metadata": {},
     "output_type": "execute_result"
    }
   ],
   "source": [
    "trf = label_encode_columns(trf,33,34)\n",
    "trf.shape"
   ]
  },
  {
   "cell_type": "code",
   "execution_count": 29,
   "id": "ebddd9bb-986f-437a-9e3f-c7673ddcb999",
   "metadata": {},
   "outputs": [],
   "source": [
    "trf.household_adults = trf.household_adults.astype(int)"
   ]
  },
  {
   "cell_type": "code",
   "execution_count": 30,
   "id": "14319a9e-885c-459e-ba46-8fac7b3fa33f",
   "metadata": {},
   "outputs": [
    {
     "data": {
      "text/plain": [
       "household_adults\n",
       "1    14474\n",
       "0     8305\n",
       "2     2803\n",
       "3     1125\n",
       "Name: count, dtype: int64"
      ]
     },
     "execution_count": 30,
     "metadata": {},
     "output_type": "execute_result"
    }
   ],
   "source": [
    "trf.household_adults.value_counts()"
   ]
  },
  {
   "cell_type": "code",
   "execution_count": 31,
   "id": "4bd30448-ca8b-42df-8abb-4b3a6f4ba5e9",
   "metadata": {},
   "outputs": [
    {
     "data": {
      "text/plain": [
       "respondent_id                     int32\n",
       "xyz_concern                       int32\n",
       "xyz_knowledge                     int32\n",
       "behavioral_antiviral_meds         int32\n",
       "behavioral_avoidance              int32\n",
       "behavioral_face_mask              int32\n",
       "behavioral_wash_hands             int32\n",
       "behavioral_large_gatherings       int32\n",
       "behavioral_outside_home           int32\n",
       "behavioral_touch_face             int32\n",
       "doctor_recc_xyz                   int32\n",
       "doctor_recc_seasonal              int32\n",
       "chronic_med_condition             int32\n",
       "child_under_6_months              int32\n",
       "health_worker                     int32\n",
       "health_insurance                  int32\n",
       "opinion_xyz_vacc_effective        int32\n",
       "opinion_xyz_risk                  int32\n",
       "opinion_xyz_sick_from_vacc        int32\n",
       "opinion_seas_vacc_effective       int32\n",
       "opinion_seas_risk                 int32\n",
       "opinion_seas_sick_from_vacc       int32\n",
       "age_group                        object\n",
       "education                        object\n",
       "race                             object\n",
       "sex                              object\n",
       "income_poverty                   object\n",
       "marital_status                   object\n",
       "employment_status                object\n",
       "hhs_geo_region                   object\n",
       "census_msa                       object\n",
       "household_adults                  int32\n",
       "household_children                int32\n",
       "employment_industry              object\n",
       "employment_occupation            object\n",
       "age_group_encoded                 int32\n",
       "education_encoded                 int32\n",
       "race_encoded                      int32\n",
       "sex_encoded                       int32\n",
       "income_poverty_encoded            int32\n",
       "marital_status_encoded            int32\n",
       "employment_status_encoded         int32\n",
       "hhs_geo_region_encoded            int32\n",
       "census_msa_encoded                int32\n",
       "employment_industry_encoded       int32\n",
       "employment_occupation_encoded     int32\n",
       "dtype: object"
      ]
     },
     "execution_count": 31,
     "metadata": {},
     "output_type": "execute_result"
    }
   ],
   "source": [
    "trf.dtypes"
   ]
  },
  {
   "cell_type": "code",
   "execution_count": 32,
   "id": "6e64d7be-69bd-4522-8556-c3de691307a8",
   "metadata": {},
   "outputs": [
    {
     "data": {
      "text/plain": [
       "'household_adults'"
      ]
     },
     "execution_count": 32,
     "metadata": {},
     "output_type": "execute_result"
    }
   ],
   "source": [
    "trf.columns[31]"
   ]
  },
  {
   "cell_type": "code",
   "execution_count": 33,
   "id": "bdbfd790-e9a9-4e58-99f9-1308185f1dcd",
   "metadata": {},
   "outputs": [
    {
     "data": {
      "text/plain": [
       "respondent_id                     int32\n",
       "xyz_concern                       int32\n",
       "xyz_knowledge                     int32\n",
       "behavioral_antiviral_meds         int32\n",
       "behavioral_avoidance              int32\n",
       "behavioral_face_mask              int32\n",
       "behavioral_wash_hands             int32\n",
       "behavioral_large_gatherings       int32\n",
       "behavioral_outside_home           int32\n",
       "behavioral_touch_face             int32\n",
       "doctor_recc_xyz                   int32\n",
       "doctor_recc_seasonal              int32\n",
       "chronic_med_condition             int32\n",
       "child_under_6_months              int32\n",
       "health_worker                     int32\n",
       "health_insurance                  int32\n",
       "opinion_xyz_vacc_effective        int32\n",
       "opinion_xyz_risk                  int32\n",
       "opinion_xyz_sick_from_vacc        int32\n",
       "opinion_seas_vacc_effective       int32\n",
       "opinion_seas_risk                 int32\n",
       "opinion_seas_sick_from_vacc       int32\n",
       "household_adults                  int32\n",
       "household_children                int32\n",
       "employment_industry              object\n",
       "employment_occupation            object\n",
       "age_group_encoded                 int32\n",
       "education_encoded                 int32\n",
       "race_encoded                      int32\n",
       "sex_encoded                       int32\n",
       "income_poverty_encoded            int32\n",
       "marital_status_encoded            int32\n",
       "employment_status_encoded         int32\n",
       "hhs_geo_region_encoded            int32\n",
       "census_msa_encoded                int32\n",
       "employment_industry_encoded       int32\n",
       "employment_occupation_encoded     int32\n",
       "dtype: object"
      ]
     },
     "execution_count": 33,
     "metadata": {},
     "output_type": "execute_result"
    }
   ],
   "source": [
    "t = trf.drop(trf.columns[22:31], axis=1)\n",
    "t.dtypes"
   ]
  },
  {
   "cell_type": "code",
   "execution_count": 34,
   "id": "fd5ab5ce-ad33-45a6-a431-b8226e0b7068",
   "metadata": {},
   "outputs": [],
   "source": [
    "t.drop(t.columns[24:26], axis=1, inplace=True)"
   ]
  },
  {
   "cell_type": "code",
   "execution_count": 35,
   "id": "6bbbae21-4fe1-4e67-b978-b87cd15f5678",
   "metadata": {},
   "outputs": [
    {
     "data": {
      "text/plain": [
       "(26707, 35)"
      ]
     },
     "execution_count": 35,
     "metadata": {},
     "output_type": "execute_result"
    }
   ],
   "source": [
    "t.shape"
   ]
  },
  {
   "cell_type": "code",
   "execution_count": 36,
   "id": "35c575f1-cf53-4a8e-9777-0061c5e4e72d",
   "metadata": {},
   "outputs": [
    {
     "data": {
      "text/plain": [
       "<Axes: >"
      ]
     },
     "execution_count": 36,
     "metadata": {},
     "output_type": "execute_result"
    },
    {
     "data": {
      "image/png": "[encoded data removed]",
      "text/plain": [
       "<Figure size 1800x800 with 2 Axes>"
      ]
     },
     "metadata": {},
     "output_type": "display_data"
    }
   ],
   "source": [
    "t.corr()\n",
    "sns.heatmap(t.corr(), cmap='Blues', annot=True)"
   ]
  },
  {
   "cell_type": "code",
   "execution_count": 37,
   "id": "08125b50-187d-4c37-b459-6bc1e3b16fac",
   "metadata": {},
   "outputs": [
    {
     "data": {
      "text/plain": [
       "Index(['respondent_id', 'xyz_vaccine', 'seasonal_vaccine'], dtype='object')"
      ]
     },
     "execution_count": 37,
     "metadata": {},
     "output_type": "execute_result"
    }
   ],
   "source": [
    "trl.columns"
   ]
  },
  {
   "cell_type": "code",
   "execution_count": 38,
   "id": "5c1f6b66-3ca3-4098-8ef5-261f3c3c3a1b",
   "metadata": {},
   "outputs": [
    {
     "name": "stderr",
     "output_type": "stream",
     "text": [
      "C:\\Users\\asus\\anaconda3\\Lib\\site-packages\\seaborn\\_oldcore.py:1119: FutureWarning: use_inf_as_na option is deprecated and will be removed in a future version. Convert inf values to NaN before operating instead.\n",
      "  with pd.option_context('mode.use_inf_as_na', True):\n",
      "C:\\Users\\asus\\anaconda3\\Lib\\site-packages\\seaborn\\_oldcore.py:1119: FutureWarning: use_inf_as_na option is deprecated and will be removed in a future version. Convert inf values to NaN before operating instead.\n",
      "  with pd.option_context('mode.use_inf_as_na', True):\n"
     ]
    },
    {
     "data": {
      "text/plain": [
       "<Axes: xlabel='doctor_recc_xyz', ylabel='xyz_vaccine'>"
      ]
     },
     "execution_count": 38,
     "metadata": {},
     "output_type": "execute_result"
    },
    {
     "data": {
      "image/png": "[encoded data removed]",
      "text/plain": [
       "<Figure size 1800x800 with 2 Axes>"
      ]
     },
     "metadata": {},
     "output_type": "display_data"
    }
   ],
   "source": [
    "sns.kdeplot(x=t.doctor_recc_xyz, y=trl.xyz_vaccine, n_levels=10, fill=True, cbar=True)"
   ]
  },
  {
   "cell_type": "code",
   "execution_count": 39,
   "id": "3cefa0bb-32a6-435c-9d5a-3d9bece0e142",
   "metadata": {},
   "outputs": [],
   "source": [
    "from sklearn.model_selection import train_test_split\n",
    "from sklearn.preprocessing import StandardScaler\n",
    "from sklearn.multioutput import MultiOutputClassifier\n",
    "from sklearn.ensemble import RandomForestClassifier\n",
    "from sklearn.metrics import classification_report\n",
    "from sklearn.linear_model import RidgeClassifier\n"
   ]
  },
  {
   "cell_type": "code",
   "execution_count": 40,
   "id": "57054f4a-54db-4703-aa8d-fccb34dd1bc9",
   "metadata": {},
   "outputs": [],
   "source": [
    "trl1 = trl.drop(\"respondent_id\", axis=1)"
   ]
  },
  {
   "cell_type": "code",
   "execution_count": 41,
   "id": "b91d7c95-8cab-4e59-af3e-1c8a6f5c2455",
   "metadata": {},
   "outputs": [],
   "source": [
    "X_train, X_test, y_train, y_test = train_test_split(t, trl, test_size=0.2, random_state=42)"
   ]
  },
  {
   "cell_type": "code",
   "execution_count": 42,
   "id": "5e346243-5d01-4067-8e41-80e590df9325",
   "metadata": {},
   "outputs": [],
   "source": [
    "from sklearn.linear_model import LinearRegression\n",
    "reg = LinearRegression().fit(X_train,y_train)"
   ]
  },
  {
   "cell_type": "code",
   "execution_count": 43,
   "id": "9dcd7bdb-7af2-403e-9d92-5e2a7a48e570",
   "metadata": {},
   "outputs": [
    {
     "data": {
      "text/plain": [
       "0.5487081598906158"
      ]
     },
     "execution_count": 43,
     "metadata": {},
     "output_type": "execute_result"
    }
   ],
   "source": [
    "reg.score(X_test, y_test)"
   ]
  },
  {
   "cell_type": "code",
   "execution_count": 44,
   "id": "0973477f-9ac0-4964-a4a2-e0706b94c782",
   "metadata": {},
   "outputs": [
    {
     "data": {
      "text/plain": [
       "0.5453030527612291"
      ]
     },
     "execution_count": 44,
     "metadata": {},
     "output_type": "execute_result"
    }
   ],
   "source": [
    "reg.score(X_train,y_train)"
   ]
  },
  {
   "cell_type": "code",
   "execution_count": 45,
   "id": "049338e2-506e-4e70-aac2-cfaf61a9d39b",
   "metadata": {},
   "outputs": [
    {
     "data": {
      "text/plain": [
       "0.33323392622130593"
      ]
     },
     "execution_count": 45,
     "metadata": {},
     "output_type": "execute_result"
    }
   ],
   "source": [
    "from sklearn import linear_model\n",
    "\n",
    "lasso_reg = linear_model.Lasso(alpha=50, max_iter=100,tol=0.1)\n",
    "lasso_reg.fit(X_train,y_train)\n",
    "\n",
    "lasso_reg.score(X_test, y_test)"
   ]
  },
  {
   "cell_type": "code",
   "execution_count": 46,
   "id": "36b4c103-e932-48b4-8c23-61c98906e05a",
   "metadata": {},
   "outputs": [
    {
     "data": {
      "text/plain": [
       "0.5485975587830697"
      ]
     },
     "execution_count": 46,
     "metadata": {},
     "output_type": "execute_result"
    }
   ],
   "source": [
    "ridge_reg = linear_model.Ridge(alpha=50, max_iter=100,tol=0.1)\n",
    "ridge_reg.fit(X_train,y_train)\n",
    "\n",
    "ridge_reg.score(X_test, y_test)"
   ]
  },
  {
   "cell_type": "code",
   "execution_count": 62,
   "id": "4c5fcb44-7437-4d20-bfbe-744e184daa25",
   "metadata": {},
   "outputs": [],
   "source": [
    "# # Scaling features\n",
    "# scaler = StandardScaler()\n",
    "# X_train_scaled = scaler.fit_transform(X_train)\n",
    "# X_test_scaled = scaler.transform(X_test)"
   ]
  },
  {
   "cell_type": "code",
   "execution_count": 47,
   "id": "5fb79ce0-58b2-4b43-b335-fc099f2a8044",
   "metadata": {},
   "outputs": [],
   "source": [
    "from sklearn.naive_bayes import GaussianNB\n",
    "from sklearn.multiclass import OneVsRestClassifier"
   ]
  },
  {
   "cell_type": "code",
   "execution_count": 82,
   "id": "dc8b135a-23d2-4660-b6c2-414fc34680a6",
   "metadata": {},
   "outputs": [],
   "source": [
    "# gnb_classifier = OneVsRestClassifier(GaussianNB())\n",
    "# gnb_classifier.fit(X_train, y_train)\n",
    "# gnb_pred = gnb_classifier.predict(X_test)"
   ]
  },
  {
   "cell_type": "code",
   "execution_count": 83,
   "id": "ea381709-2c27-4025-bfc5-4bc90e09b1e7",
   "metadata": {},
   "outputs": [],
   "source": [
    "#classification_report(y_test, gnb_pred)"
   ]
  },
  {
   "cell_type": "code",
   "execution_count": null,
   "id": "19478142-c244-4969-9aea-c55afcc8be59",
   "metadata": {},
   "outputs": [],
   "source": [
    "# # Initialize the base classifier\n",
    "# base_classifier = RandomForestClassifier(n_estimators=100, random_state=42)\n",
    "\n",
    "# # Use MultiOutputClassifier to handle multilabel classification\n",
    "# multi_target_classifier = MultiOutputClassifier(base_classifier, n_jobs=-1)\n",
    "\n",
    "# # Train the model\n",
    "# multi_target_classifier.fit(X_train_scaled, y_train)"
   ]
  },
  {
   "cell_type": "code",
   "execution_count": 48,
   "id": "4c473711-ce05-4219-9baa-78090edba23c",
   "metadata": {},
   "outputs": [
    {
     "data": {
      "text/html": [
       "<div>\n",
       "<style scoped>\n",
       "    .dataframe tbody tr th:only-of-type {\n",
       "        vertical-align: middle;\n",
       "    }\n",
       "\n",
       "    .dataframe tbody tr th {\n",
       "        vertical-align: top;\n",
       "    }\n",
       "\n",
       "    .dataframe thead th {\n",
       "        text-align: right;\n",
       "    }\n",
       "</style>\n",
       "<table border=\"1\" class=\"dataframe\">\n",
       "  <thead>\n",
       "    <tr style=\"text-align: right;\">\n",
       "      <th></th>\n",
       "      <th>respondent_id</th>\n",
       "      <th>xyz_concern</th>\n",
       "      <th>xyz_knowledge</th>\n",
       "      <th>behavioral_antiviral_meds</th>\n",
       "      <th>behavioral_avoidance</th>\n",
       "      <th>behavioral_face_mask</th>\n",
       "      <th>behavioral_wash_hands</th>\n",
       "      <th>behavioral_large_gatherings</th>\n",
       "      <th>behavioral_outside_home</th>\n",
       "      <th>behavioral_touch_face</th>\n",
       "      <th>doctor_recc_xyz</th>\n",
       "      <th>doctor_recc_seasonal</th>\n",
       "      <th>chronic_med_condition</th>\n",
       "      <th>child_under_6_months</th>\n",
       "      <th>health_worker</th>\n",
       "      <th>health_insurance</th>\n",
       "      <th>opinion_xyz_vacc_effective</th>\n",
       "      <th>opinion_xyz_risk</th>\n",
       "      <th>opinion_xyz_sick_from_vacc</th>\n",
       "      <th>opinion_seas_vacc_effective</th>\n",
       "      <th>opinion_seas_risk</th>\n",
       "      <th>opinion_seas_sick_from_vacc</th>\n",
       "      <th>age_group</th>\n",
       "      <th>education</th>\n",
       "      <th>race</th>\n",
       "      <th>sex</th>\n",
       "      <th>income_poverty</th>\n",
       "      <th>marital_status</th>\n",
       "      <th>rent_or_own</th>\n",
       "      <th>employment_status</th>\n",
       "      <th>hhs_geo_region</th>\n",
       "      <th>census_msa</th>\n",
       "      <th>household_adults</th>\n",
       "      <th>household_children</th>\n",
       "      <th>employment_industry</th>\n",
       "      <th>employment_occupation</th>\n",
       "    </tr>\n",
       "  </thead>\n",
       "  <tbody>\n",
       "    <tr>\n",
       "      <th>0</th>\n",
       "      <td>26707</td>\n",
       "      <td>2.0</td>\n",
       "      <td>2.0</td>\n",
       "      <td>0.0</td>\n",
       "      <td>1.0</td>\n",
       "      <td>0.0</td>\n",
       "      <td>1.0</td>\n",
       "      <td>1.0</td>\n",
       "      <td>0.0</td>\n",
       "      <td>1.0</td>\n",
       "      <td>0.0</td>\n",
       "      <td>0.0</td>\n",
       "      <td>0.0</td>\n",
       "      <td>0.0</td>\n",
       "      <td>0.0</td>\n",
       "      <td>1.0</td>\n",
       "      <td>5.0</td>\n",
       "      <td>1.0</td>\n",
       "      <td>1.0</td>\n",
       "      <td>5.0</td>\n",
       "      <td>1.0</td>\n",
       "      <td>1.0</td>\n",
       "      <td>35 - 44 Years</td>\n",
       "      <td>College Graduate</td>\n",
       "      <td>Hispanic</td>\n",
       "      <td>Female</td>\n",
       "      <td>&gt; $75,000</td>\n",
       "      <td>Not Married</td>\n",
       "      <td>Rent</td>\n",
       "      <td>Employed</td>\n",
       "      <td>mlyzmhmf</td>\n",
       "      <td>MSA, Not Principle  City</td>\n",
       "      <td>1.0</td>\n",
       "      <td>0.0</td>\n",
       "      <td>atmlpfrs</td>\n",
       "      <td>hfxkjkmi</td>\n",
       "    </tr>\n",
       "    <tr>\n",
       "      <th>1</th>\n",
       "      <td>26708</td>\n",
       "      <td>1.0</td>\n",
       "      <td>1.0</td>\n",
       "      <td>0.0</td>\n",
       "      <td>0.0</td>\n",
       "      <td>0.0</td>\n",
       "      <td>0.0</td>\n",
       "      <td>0.0</td>\n",
       "      <td>0.0</td>\n",
       "      <td>0.0</td>\n",
       "      <td>0.0</td>\n",
       "      <td>0.0</td>\n",
       "      <td>0.0</td>\n",
       "      <td>0.0</td>\n",
       "      <td>0.0</td>\n",
       "      <td>0.0</td>\n",
       "      <td>4.0</td>\n",
       "      <td>1.0</td>\n",
       "      <td>1.0</td>\n",
       "      <td>4.0</td>\n",
       "      <td>1.0</td>\n",
       "      <td>1.0</td>\n",
       "      <td>18 - 34 Years</td>\n",
       "      <td>12 Years</td>\n",
       "      <td>White</td>\n",
       "      <td>Male</td>\n",
       "      <td>Below Poverty</td>\n",
       "      <td>Not Married</td>\n",
       "      <td>Rent</td>\n",
       "      <td>Employed</td>\n",
       "      <td>bhuqouqj</td>\n",
       "      <td>Non-MSA</td>\n",
       "      <td>3.0</td>\n",
       "      <td>0.0</td>\n",
       "      <td>atmlpfrs</td>\n",
       "      <td>xqwwgdyp</td>\n",
       "    </tr>\n",
       "    <tr>\n",
       "      <th>2</th>\n",
       "      <td>26709</td>\n",
       "      <td>2.0</td>\n",
       "      <td>2.0</td>\n",
       "      <td>0.0</td>\n",
       "      <td>0.0</td>\n",
       "      <td>1.0</td>\n",
       "      <td>1.0</td>\n",
       "      <td>1.0</td>\n",
       "      <td>1.0</td>\n",
       "      <td>1.0</td>\n",
       "      <td>0.0</td>\n",
       "      <td>0.0</td>\n",
       "      <td>0.0</td>\n",
       "      <td>0.0</td>\n",
       "      <td>0.0</td>\n",
       "      <td>NaN</td>\n",
       "      <td>5.0</td>\n",
       "      <td>4.0</td>\n",
       "      <td>2.0</td>\n",
       "      <td>5.0</td>\n",
       "      <td>4.0</td>\n",
       "      <td>4.0</td>\n",
       "      <td>55 - 64 Years</td>\n",
       "      <td>College Graduate</td>\n",
       "      <td>White</td>\n",
       "      <td>Male</td>\n",
       "      <td>&gt; $75,000</td>\n",
       "      <td>Married</td>\n",
       "      <td>Own</td>\n",
       "      <td>Employed</td>\n",
       "      <td>lrircsnp</td>\n",
       "      <td>Non-MSA</td>\n",
       "      <td>1.0</td>\n",
       "      <td>0.0</td>\n",
       "      <td>nduyfdeo</td>\n",
       "      <td>pvmttkik</td>\n",
       "    </tr>\n",
       "    <tr>\n",
       "      <th>3</th>\n",
       "      <td>26710</td>\n",
       "      <td>1.0</td>\n",
       "      <td>1.0</td>\n",
       "      <td>0.0</td>\n",
       "      <td>0.0</td>\n",
       "      <td>0.0</td>\n",
       "      <td>0.0</td>\n",
       "      <td>0.0</td>\n",
       "      <td>0.0</td>\n",
       "      <td>0.0</td>\n",
       "      <td>1.0</td>\n",
       "      <td>1.0</td>\n",
       "      <td>1.0</td>\n",
       "      <td>0.0</td>\n",
       "      <td>0.0</td>\n",
       "      <td>1.0</td>\n",
       "      <td>4.0</td>\n",
       "      <td>2.0</td>\n",
       "      <td>2.0</td>\n",
       "      <td>4.0</td>\n",
       "      <td>4.0</td>\n",
       "      <td>2.0</td>\n",
       "      <td>65+ Years</td>\n",
       "      <td>12 Years</td>\n",
       "      <td>White</td>\n",
       "      <td>Female</td>\n",
       "      <td>&lt;= $75,000, Above Poverty</td>\n",
       "      <td>Married</td>\n",
       "      <td>Own</td>\n",
       "      <td>Not in Labor Force</td>\n",
       "      <td>lrircsnp</td>\n",
       "      <td>MSA, Not Principle  City</td>\n",
       "      <td>1.0</td>\n",
       "      <td>0.0</td>\n",
       "      <td>NaN</td>\n",
       "      <td>NaN</td>\n",
       "    </tr>\n",
       "    <tr>\n",
       "      <th>4</th>\n",
       "      <td>26711</td>\n",
       "      <td>3.0</td>\n",
       "      <td>1.0</td>\n",
       "      <td>1.0</td>\n",
       "      <td>1.0</td>\n",
       "      <td>0.0</td>\n",
       "      <td>1.0</td>\n",
       "      <td>1.0</td>\n",
       "      <td>1.0</td>\n",
       "      <td>1.0</td>\n",
       "      <td>0.0</td>\n",
       "      <td>0.0</td>\n",
       "      <td>0.0</td>\n",
       "      <td>0.0</td>\n",
       "      <td>1.0</td>\n",
       "      <td>1.0</td>\n",
       "      <td>5.0</td>\n",
       "      <td>2.0</td>\n",
       "      <td>4.0</td>\n",
       "      <td>4.0</td>\n",
       "      <td>4.0</td>\n",
       "      <td>2.0</td>\n",
       "      <td>35 - 44 Years</td>\n",
       "      <td>12 Years</td>\n",
       "      <td>Black</td>\n",
       "      <td>Female</td>\n",
       "      <td>&lt;= $75,000, Above Poverty</td>\n",
       "      <td>Not Married</td>\n",
       "      <td>Own</td>\n",
       "      <td>Employed</td>\n",
       "      <td>lzgpxyit</td>\n",
       "      <td>Non-MSA</td>\n",
       "      <td>0.0</td>\n",
       "      <td>1.0</td>\n",
       "      <td>fcxhlnwr</td>\n",
       "      <td>mxkfnird</td>\n",
       "    </tr>\n",
       "  </tbody>\n",
       "</table>\n",
       "</div>"
      ],
      "text/plain": [
       "   respondent_id  xyz_concern  xyz_knowledge  behavioral_antiviral_meds  \\\n",
       "0          26707          2.0            2.0                        0.0   \n",
       "1          26708          1.0            1.0                        0.0   \n",
       "2          26709          2.0            2.0                        0.0   \n",
       "3          26710          1.0            1.0                        0.0   \n",
       "4          26711          3.0            1.0                        1.0   \n",
       "\n",
       "   behavioral_avoidance  behavioral_face_mask  behavioral_wash_hands  \\\n",
       "0                   1.0                   0.0                    1.0   \n",
       "1                   0.0                   0.0                    0.0   \n",
       "2                   0.0                   1.0                    1.0   \n",
       "3                   0.0                   0.0                    0.0   \n",
       "4                   1.0                   0.0                    1.0   \n",
       "\n",
       "   behavioral_large_gatherings  behavioral_outside_home  \\\n",
       "0                          1.0                      0.0   \n",
       "1                          0.0                      0.0   \n",
       "2                          1.0                      1.0   \n",
       "3                          0.0                      0.0   \n",
       "4                          1.0                      1.0   \n",
       "\n",
       "   behavioral_touch_face  doctor_recc_xyz  doctor_recc_seasonal  \\\n",
       "0                    1.0              0.0                   0.0   \n",
       "1                    0.0              0.0                   0.0   \n",
       "2                    1.0              0.0                   0.0   \n",
       "3                    0.0              1.0                   1.0   \n",
       "4                    1.0              0.0                   0.0   \n",
       "\n",
       "   chronic_med_condition  child_under_6_months  health_worker  \\\n",
       "0                    0.0                   0.0            0.0   \n",
       "1                    0.0                   0.0            0.0   \n",
       "2                    0.0                   0.0            0.0   \n",
       "3                    1.0                   0.0            0.0   \n",
       "4                    0.0                   0.0            1.0   \n",
       "\n",
       "   health_insurance  opinion_xyz_vacc_effective  opinion_xyz_risk  \\\n",
       "0               1.0                         5.0               1.0   \n",
       "1               0.0                         4.0               1.0   \n",
       "2               NaN                         5.0               4.0   \n",
       "3               1.0                         4.0               2.0   \n",
       "4               1.0                         5.0               2.0   \n",
       "\n",
       "   opinion_xyz_sick_from_vacc  opinion_seas_vacc_effective  opinion_seas_risk  \\\n",
       "0                         1.0                          5.0                1.0   \n",
       "1                         1.0                          4.0                1.0   \n",
       "2                         2.0                          5.0                4.0   \n",
       "3                         2.0                          4.0                4.0   \n",
       "4                         4.0                          4.0                4.0   \n",
       "\n",
       "   opinion_seas_sick_from_vacc      age_group         education      race  \\\n",
       "0                          1.0  35 - 44 Years  College Graduate  Hispanic   \n",
       "1                          1.0  18 - 34 Years          12 Years     White   \n",
       "2                          4.0  55 - 64 Years  College Graduate     White   \n",
       "3                          2.0      65+ Years          12 Years     White   \n",
       "4                          2.0  35 - 44 Years          12 Years     Black   \n",
       "\n",
       "      sex             income_poverty marital_status rent_or_own  \\\n",
       "0  Female                  > $75,000    Not Married        Rent   \n",
       "1    Male              Below Poverty    Not Married        Rent   \n",
       "2    Male                  > $75,000        Married         Own   \n",
       "3  Female  <= $75,000, Above Poverty        Married         Own   \n",
       "4  Female  <= $75,000, Above Poverty    Not Married         Own   \n",
       "\n",
       "    employment_status hhs_geo_region                census_msa  \\\n",
       "0            Employed       mlyzmhmf  MSA, Not Principle  City   \n",
       "1            Employed       bhuqouqj                   Non-MSA   \n",
       "2            Employed       lrircsnp                   Non-MSA   \n",
       "3  Not in Labor Force       lrircsnp  MSA, Not Principle  City   \n",
       "4            Employed       lzgpxyit                   Non-MSA   \n",
       "\n",
       "   household_adults  household_children employment_industry  \\\n",
       "0               1.0                 0.0            atmlpfrs   \n",
       "1               3.0                 0.0            atmlpfrs   \n",
       "2               1.0                 0.0            nduyfdeo   \n",
       "3               1.0                 0.0                 NaN   \n",
       "4               0.0                 1.0            fcxhlnwr   \n",
       "\n",
       "  employment_occupation  \n",
       "0              hfxkjkmi  \n",
       "1              xqwwgdyp  \n",
       "2              pvmttkik  \n",
       "3                   NaN  \n",
       "4              mxkfnird  "
      ]
     },
     "execution_count": 48,
     "metadata": {},
     "output_type": "execute_result"
    }
   ],
   "source": [
    "tef.head()"
   ]
  },
  {
   "cell_type": "code",
   "execution_count": 49,
   "id": "d000a468-9867-4744-85c6-65faed7856be",
   "metadata": {},
   "outputs": [
    {
     "data": {
      "text/plain": [
       "respondent_id                      0\n",
       "xyz_concern                       85\n",
       "xyz_knowledge                    122\n",
       "behavioral_antiviral_meds         79\n",
       "behavioral_avoidance             213\n",
       "behavioral_face_mask              19\n",
       "behavioral_wash_hands             40\n",
       "behavioral_large_gatherings       72\n",
       "behavioral_outside_home           82\n",
       "behavioral_touch_face            128\n",
       "doctor_recc_xyz                 2160\n",
       "doctor_recc_seasonal            2160\n",
       "chronic_med_condition            932\n",
       "child_under_6_months             813\n",
       "health_worker                    789\n",
       "health_insurance               12228\n",
       "opinion_xyz_vacc_effective       398\n",
       "opinion_xyz_risk                 380\n",
       "opinion_xyz_sick_from_vacc       375\n",
       "opinion_seas_vacc_effective      452\n",
       "opinion_seas_risk                499\n",
       "opinion_seas_sick_from_vacc      521\n",
       "age_group                          0\n",
       "education                       1407\n",
       "race                               0\n",
       "sex                                0\n",
       "income_poverty                  4497\n",
       "marital_status                  1442\n",
       "rent_or_own                     2036\n",
       "employment_status               1471\n",
       "hhs_geo_region                     0\n",
       "census_msa                         0\n",
       "household_adults                 225\n",
       "household_children               225\n",
       "employment_industry            13275\n",
       "employment_occupation          13426\n",
       "dtype: int64"
      ]
     },
     "execution_count": 49,
     "metadata": {},
     "output_type": "execute_result"
    }
   ],
   "source": [
    "tef.isnull().sum()"
   ]
  },
  {
   "cell_type": "code",
   "execution_count": 50,
   "id": "6997112a-90af-4eb3-a95f-25b8ea2d57b7",
   "metadata": {},
   "outputs": [
    {
     "name": "stderr",
     "output_type": "stream",
     "text": [
      "C:\\Users\\asus\\AppData\\Local\\Temp\\ipykernel_14484\\1033792281.py:16: FutureWarning: Setting an item of incompatible dtype is deprecated and will raise in a future error of pandas. Value '0' has dtype incompatible with float64, please explicitly cast to a compatible dtype first.\n",
      "  df[column].fillna(\"0\", inplace=True)\n",
      "C:\\Users\\asus\\AppData\\Local\\Temp\\ipykernel_14484\\1033792281.py:18: FutureWarning: Setting an item of incompatible dtype is deprecated and will raise in a future error of pandas. Value '1' has dtype incompatible with float64, please explicitly cast to a compatible dtype first.\n",
      "  df[column].fillna(\"1\", inplace=True)\n"
     ]
    }
   ],
   "source": [
    "tef = employment(tef)\n",
    "tef = fill_nulls_with_zero(tef)"
   ]
  },
  {
   "cell_type": "code",
   "execution_count": 53,
   "id": "09ec6b7f-052a-4ce7-ae7f-c964bd3880fd",
   "metadata": {},
   "outputs": [],
   "source": [
    "tef[\"education\"].fillna(\"< 12 Years\", inplace=True)\n",
    "tef.drop('rent_or_own', axis=1, inplace=True)"
   ]
  },
  {
   "cell_type": "code",
   "execution_count": 55,
   "id": "bd7f3460-4f21-4a64-b814-0258bd4a6103",
   "metadata": {},
   "outputs": [
    {
     "name": "stderr",
     "output_type": "stream",
     "text": [
      "C:\\Users\\asus\\AppData\\Local\\Temp\\ipykernel_14484\\38018605.py:2: FutureWarning: Setting an item of incompatible dtype is deprecated and will raise in a future error of pandas. Value '0' has dtype incompatible with float64, please explicitly cast to a compatible dtype first.\n",
      "  tef[\"household_adults\"].fillna(\"0\", inplace=True)\n",
      "C:\\Users\\asus\\AppData\\Local\\Temp\\ipykernel_14484\\38018605.py:3: FutureWarning: Setting an item of incompatible dtype is deprecated and will raise in a future error of pandas. Value '0' has dtype incompatible with float64, please explicitly cast to a compatible dtype first.\n",
      "  tef[\"household_children\"].fillna(\"0\", inplace=True)\n"
     ]
    }
   ],
   "source": [
    "tef[\"income_poverty\"].fillna(\"Unknown\", inplace=True)\n",
    "tef[\"household_adults\"].fillna(\"0\", inplace=True)\n",
    "tef[\"household_children\"].fillna(\"0\", inplace=True)\n",
    "tef[\"employment_industry\"].fillna(\"none\", inplace=True)\n",
    "tef[\"employment_occupation\"].fillna(\"none\", inplace=True)\n",
    "tef[\"marital_status\"].fillna(\"Unknown\", inplace=True)"
   ]
  },
  {
   "cell_type": "code",
   "execution_count": 56,
   "id": "092547ca-ddf4-4a52-809d-d862f275c22b",
   "metadata": {},
   "outputs": [
    {
     "data": {
      "text/plain": [
       "respondent_id                   int32\n",
       "xyz_concern                     int32\n",
       "xyz_knowledge                   int32\n",
       "behavioral_antiviral_meds       int32\n",
       "behavioral_avoidance            int32\n",
       "behavioral_face_mask            int32\n",
       "behavioral_wash_hands           int32\n",
       "behavioral_large_gatherings     int32\n",
       "behavioral_outside_home         int32\n",
       "behavioral_touch_face           int32\n",
       "doctor_recc_xyz                 int32\n",
       "doctor_recc_seasonal            int32\n",
       "chronic_med_condition           int32\n",
       "child_under_6_months            int32\n",
       "health_worker                   int32\n",
       "health_insurance                int32\n",
       "opinion_xyz_vacc_effective      int32\n",
       "opinion_xyz_risk                int32\n",
       "opinion_xyz_sick_from_vacc      int32\n",
       "opinion_seas_vacc_effective     int32\n",
       "opinion_seas_risk               int32\n",
       "opinion_seas_sick_from_vacc     int32\n",
       "age_group                      object\n",
       "education                      object\n",
       "race                           object\n",
       "sex                            object\n",
       "income_poverty                 object\n",
       "marital_status                 object\n",
       "employment_status              object\n",
       "hhs_geo_region                 object\n",
       "census_msa                     object\n",
       "household_adults               object\n",
       "household_children              int32\n",
       "employment_industry            object\n",
       "employment_occupation          object\n",
       "dtype: object"
      ]
     },
     "execution_count": 56,
     "metadata": {},
     "output_type": "execute_result"
    }
   ],
   "source": [
    "tef = column_type(tef, 0, 22)\n",
    "tef = column_type(tef, 32, 33)\n",
    "tef.dtypes"
   ]
  },
  {
   "cell_type": "code",
   "execution_count": 68,
   "id": "a39e1a0e-2d56-4348-b7bb-9c36106b8b9c",
   "metadata": {},
   "outputs": [],
   "source": [
    "tef = label_encode_columns(tef,22,30)"
   ]
  },
  {
   "cell_type": "code",
   "execution_count": 69,
   "id": "3f36e209-7b18-429b-81b6-de800e75b7a6",
   "metadata": {},
   "outputs": [
    {
     "data": {
      "text/plain": [
       "(26708, 46)"
      ]
     },
     "execution_count": 69,
     "metadata": {},
     "output_type": "execute_result"
    }
   ],
   "source": [
    "tef = label_encode_columns(tef,33,34)\n",
    "tef.shape"
   ]
  },
  {
   "cell_type": "code",
   "execution_count": 70,
   "id": "85e2464a-659d-4e9f-afcb-dd8bfdaa17dd",
   "metadata": {},
   "outputs": [],
   "source": [
    "tef.household_adults = tef.household_adults.astype(int)"
   ]
  },
  {
   "cell_type": "code",
   "execution_count": 71,
   "id": "8faf7c70-e700-4f02-97b1-fb7b322669ff",
   "metadata": {},
   "outputs": [
    {
     "data": {
      "text/plain": [
       "respondent_id                     int32\n",
       "xyz_concern                       int32\n",
       "xyz_knowledge                     int32\n",
       "behavioral_antiviral_meds         int32\n",
       "behavioral_avoidance              int32\n",
       "behavioral_face_mask              int32\n",
       "behavioral_wash_hands             int32\n",
       "behavioral_large_gatherings       int32\n",
       "behavioral_outside_home           int32\n",
       "behavioral_touch_face             int32\n",
       "doctor_recc_xyz                   int32\n",
       "doctor_recc_seasonal              int32\n",
       "chronic_med_condition             int32\n",
       "child_under_6_months              int32\n",
       "health_worker                     int32\n",
       "health_insurance                  int32\n",
       "opinion_xyz_vacc_effective        int32\n",
       "opinion_xyz_risk                  int32\n",
       "opinion_xyz_sick_from_vacc        int32\n",
       "opinion_seas_vacc_effective       int32\n",
       "opinion_seas_risk                 int32\n",
       "opinion_seas_sick_from_vacc       int32\n",
       "household_adults                  int32\n",
       "household_children                int32\n",
       "employment_industry              object\n",
       "employment_occupation            object\n",
       "age_group_encoded                 int32\n",
       "education_encoded                 int32\n",
       "race_encoded                      int32\n",
       "sex_encoded                       int32\n",
       "income_poverty_encoded            int32\n",
       "marital_status_encoded            int32\n",
       "employment_status_encoded         int32\n",
       "hhs_geo_region_encoded            int32\n",
       "census_msa_encoded                int32\n",
       "employment_industry_encoded       int32\n",
       "employment_occupation_encoded     int32\n",
       "dtype: object"
      ]
     },
     "execution_count": 71,
     "metadata": {},
     "output_type": "execute_result"
    }
   ],
   "source": [
    "tf = tef.drop(tef.columns[22:31], axis=1)\n",
    "tf.dtypes"
   ]
  },
  {
   "cell_type": "code",
   "execution_count": 72,
   "id": "918f9aa0-7764-452c-8fde-0191ce715047",
   "metadata": {},
   "outputs": [],
   "source": [
    "tf.drop(tf.columns[24:26], axis=1, inplace=True)"
   ]
  },
  {
   "cell_type": "code",
   "execution_count": 73,
   "id": "11d8ca8a-f10d-48d2-adaf-d34098f3a115",
   "metadata": {},
   "outputs": [
    {
     "data": {
      "text/plain": [
       "(26707, 35)"
      ]
     },
     "execution_count": 73,
     "metadata": {},
     "output_type": "execute_result"
    }
   ],
   "source": [
    "t.shape"
   ]
  },
  {
   "cell_type": "code",
   "execution_count": 74,
   "id": "8c2a625d-8cbc-473e-9d8b-7f00321f97ba",
   "metadata": {},
   "outputs": [
    {
     "data": {
      "text/plain": [
       "(26708, 35)"
      ]
     },
     "execution_count": 74,
     "metadata": {},
     "output_type": "execute_result"
    }
   ],
   "source": [
    "tf.shape"
   ]
  },
  {
   "cell_type": "code",
   "execution_count": 78,
   "id": "d5e1f6d3-39b5-44c5-a29e-21058fcb9c7c",
   "metadata": {},
   "outputs": [],
   "source": [
    "from sklearn.preprocessing import StandardScaler\n",
    "from sklearn.linear_model import LinearRegression\n",
    "import pickle\n",
    "from sklearn.metrics import mean_squared_error, r2_score"
   ]
  },
  {
   "cell_type": "code",
   "execution_count": 82,
   "id": "63a92fde-3cb3-4ced-8d4d-7c010f4f0c4e",
   "metadata": {},
   "outputs": [
    {
     "data": {
      "text/plain": [
       "respondent_id         int64\n",
       "h1n1_vaccine        float64\n",
       "seasonal_vaccine    float64\n",
       "dtype: object"
      ]
     },
     "execution_count": 82,
     "metadata": {},
     "output_type": "execute_result"
    }
   ],
   "source": [
    "X_test1 = tf\n",
    "y_test1 = submission_format\n",
    "y_test1.dtypes"
   ]
  },
  {
   "cell_type": "code",
   "execution_count": 83,
   "id": "efcb9ed9-0982-4e49-9d70-9c10a3ad4aa2",
   "metadata": {},
   "outputs": [
    {
     "data": {
      "text/plain": [
       "0.3333333333333333"
      ]
     },
     "execution_count": 83,
     "metadata": {},
     "output_type": "execute_result"
    }
   ],
   "source": [
    "reg.score(X_test1,y_test1)"
   ]
  },
  {
   "cell_type": "code",
   "execution_count": 95,
   "id": "a613760c-1a13-4692-9445-913a612e4f43",
   "metadata": {},
   "outputs": [],
   "source": [
    "import joblib"
   ]
  },
  {
   "cell_type": "code",
   "execution_count": 96,
   "id": "3645b822-2337-42c1-b10a-3badfa28f37e",
   "metadata": {},
   "outputs": [],
   "source": [
    "from sklearn.multioutput import MultiOutputRegressor"
   ]
  },
  {
   "cell_type": "code",
   "execution_count": 97,
   "id": "a6607df6-2874-43c6-af91-421fdda17dd8",
   "metadata": {},
   "outputs": [
    {
     "data": {
      "text/plain": [
       "['trained_model.pkl']"
      ]
     },
     "execution_count": 97,
     "metadata": {},
     "output_type": "execute_result"
    }
   ],
   "source": [
    "model = MultiOutputRegressor(LinearRegression())\n",
    "model.fit(X_train, y_train)\n",
    "\n",
    "# Save the trained model\n",
    "joblib.dump(model, 'trained_model.pkl')"
   ]
  },
  {
   "cell_type": "code",
   "execution_count": 99,
   "id": "a0b70c59-39a4-4737-b42d-71af64383ff5",
   "metadata": {},
   "outputs": [],
   "source": [
    "# Load the trained model\n",
    "trained_model = joblib.load('trained_model.pkl')\n",
    "\n",
    "# Predict using the trained model\n",
    "test_predictions = trained_model.predict(tf)\n",
    "\n",
    "predictions_df = pd.DataFrame(test_predictions, columns=[f'Predicted_{i}' for i in range(test_predictions.shape[1])])\n",
    "#result_df = pd.concat([tf, predictions_df], axis=1)\n",
    "\n",
    "# Save the combined DataFrame to a CSV file\n",
    "predictions_df.to_csv('predicted_test_set.csv', index=False)"
   ]
  }
 ],
 "metadata": {
  "kernelspec": {
   "display_name": "Python 3 (ipykernel)",
   "language": "python",
   "name": "python3"
  },
  "language_info": {
   "codemirror_mode": {
    "name": "ipython",
    "version": 3
   },
   "file_extension": ".py",
   "mimetype": "text/x-python",
   "name": "python",
   "nbconvert_exporter": "python",
   "pygments_lexer": "ipython3",
   "version": "3.11.7"
  }
 },
 "nbformat": 4,
 "nbformat_minor": 5
}
